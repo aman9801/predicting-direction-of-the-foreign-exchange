{
 "cells": [
  {
   "cell_type": "markdown",
   "id": "be00833f",
   "metadata": {},
   "source": [
    "### Problem Statement:"
   ]
  },
  {
   "cell_type": "markdown",
   "id": "a783fddf",
   "metadata": {},
   "source": [
    "### Data Dictionary:\n",
    "\n",
    "|Feature|Description|\n",
    "|:-----:|:----------|\n",
    "|Tomorrow_Direction|**Target variable** <br> 1:  if next day close is higher than current day close <br> 0:  if next day close is equal to current day close (Highly unlikely) <br> -1:  if next day close is lower than current day close|\n",
    "|Date|Date of current observation|\n",
    "|Open|Value of 1 Euro in USD at the opening of the current observation date|\n",
    "|High|Highest value of the exchange rate for the current observation date|\n",
    "|Low|Lowest value of the exchange rate for the current observation date|\n",
    "|Close|Value of 1 Euro in USD at the closing of the current observation date|\n",
    "|Volume|Amount of the asset or security that changed hands over the current date of observation|\n",
    "|Range| Range refers to the difference between the low and high prices for a security or index over a specific time period|\n",
    "|ROC| The rate of change (ROC) is the speed at which a variable changes over a specific period of time|\n",
    "|Standardized| The standard normal distribution, also called the z-distribution, is a special normal distribution where the mean is 0 and the standard deviation is 1|\n",
    "|Stochastic| A stochastic oscillator is a momentum indicator comparing a particular closing price of a security to a range of its prices over a certain period of time|\n",
    "|MACD| Moving average convergence divergence (MACD) is a trend-following momentum indicator that shows the relationship between two moving averages of a security’s price. The MACD is calculated by subtracting the 50-period exponential moving average (EMA) from the 20-period EMA|\n",
    "|ADX| ADX is used to quantify trend strength. ADX calculations are based on a moving average of price range expansion over a given period of time|\n",
    "\n",
    "<br>\n",
    "\n",
    "Following a run down of the more advanced metrics:\n",
    "\n",
    "|Feature|Formula|\n",
    "|:-----:|:-----:|\n",
    "|Range |$$\\frac{\\text{High} - \\text{Low}}{\\text{Low}}$$     |\n",
    "|ROC   |$$\\frac{\\text{Close} - \\text{Open}}{\\text{Open}}$$     |\n",
    "|Weekly_ROC|$$\\frac{\\text{Close} - \\text{Open_5_days_ago}}{\\text{Open_5_days_ago}}$$|\n",
    "|Standardized_Range_20|$$\\frac{\\text{Range} - \\text{Mean_of_Last_20_Range}}{\\text{Standard_Deviation_of_Last_20_Range}}$$|\n",
    "|Standardized_ROC_20|$$\\frac{\\text{ROC} - \\text{Mean_of_Last_20_ROC}}{\\text{Standard_Deviation_of_Last_20_ROC}}$$|\n",
    "|Standardized_Weekly_ROC_20|$$\\frac{\\text{Weekly_ROC} - \\text{Mean_of_Last_20_Weekly_ROC}}{\\text{Standard_Deviation_of_Last_20_Weekly_ROC}}$$|\n",
    "|Stochastic_20|$$\\frac{\\text{Close} - \\text{Min_of_Last_20_Low}}{\\text{Max_of_Last_20_High} - \\text{Min_of_Last_20_Low}}$$|\n",
    "|Standardized_Close_20|$$\\frac{\\text{Close} - \\text{Mean_of_Last_20_Close}}{\\text{Standard_Deviation_of_Last_20_Close}}$$|\n",
    "|Standardized_Volume_20|$$\\frac{\\text{Volume} - \\text{Mean_of_Last_20_Volume}}{\\text{Standard_Deviation_of_Last_20_Volume}}$$|"
   ]
  },
  {
   "cell_type": "markdown",
   "id": "0ca711ff",
   "metadata": {},
   "source": [
    "### Step 1: Data Understanding and Exploration"
   ]
  },
  {
   "cell_type": "code",
   "execution_count": 1,
   "id": "82957ef3",
   "metadata": {},
   "outputs": [],
   "source": [
    "# Importing packages\n",
    "import numpy as np\n",
    "import pandas as pd\n",
    "import matplotlib.pyplot as plt\n",
    "%matplotlib inline\n",
    "import seaborn as sns\n",
    "import plotly.express as px\n",
    "from sklearn.model_selection import train_test_split\n",
    "from sklearn.linear_model import LogisticRegression\n",
    "from sklearn import metrics\n",
    "from sklearn.tree import DecisionTreeClassifier\n",
    "from sklearn.ensemble import RandomForestClassifier\n",
    "from sklearn.linear_model import SGDClassifier\n",
    "from sklearn.calibration import CalibratedClassifierCV\n",
    "from sklearn.svm import SVC\n",
    "from sklearn import preprocessing\n",
    "from sklearn.model_selection import GridSearchCV \n",
    "\n",
    "# hide warnings\n",
    "import warnings\n",
    "warnings.filterwarnings('ignore')"
   ]
  },
  {
   "cell_type": "code",
   "execution_count": 5,
   "id": "db81a4b0",
   "metadata": {},
   "outputs": [
    {
     "data": {
      "text/html": [
       "<div>\n",
       "<style scoped>\n",
       "    .dataframe tbody tr th:only-of-type {\n",
       "        vertical-align: middle;\n",
       "    }\n",
       "\n",
       "    .dataframe tbody tr th {\n",
       "        vertical-align: top;\n",
       "    }\n",
       "\n",
       "    .dataframe thead th {\n",
       "        text-align: right;\n",
       "    }\n",
       "</style>\n",
       "<table border=\"1\" class=\"dataframe\">\n",
       "  <thead>\n",
       "    <tr style=\"text-align: right;\">\n",
       "      <th></th>\n",
       "      <th>Tomorrow_Direction</th>\n",
       "      <th>Date</th>\n",
       "      <th>Open</th>\n",
       "      <th>High</th>\n",
       "      <th>Low</th>\n",
       "      <th>Close</th>\n",
       "      <th>Volume</th>\n",
       "      <th>Range</th>\n",
       "      <th>ROC</th>\n",
       "      <th>Weekly_ROC</th>\n",
       "      <th>Standardized_Range_20</th>\n",
       "      <th>Standardized_ROC_20</th>\n",
       "      <th>Standardized_Weekly_ROC_20</th>\n",
       "      <th>Stochastic_20</th>\n",
       "      <th>Standardized_Close_20</th>\n",
       "      <th>Standardized_Volume_20</th>\n",
       "      <th>Day_of_Week</th>\n",
       "      <th>MACD_20_50</th>\n",
       "      <th>ADX_20</th>\n",
       "    </tr>\n",
       "  </thead>\n",
       "  <tbody>\n",
       "    <tr>\n",
       "      <th>0</th>\n",
       "      <td>-1</td>\n",
       "      <td>2003.06.25</td>\n",
       "      <td>1.1515</td>\n",
       "      <td>1.1625</td>\n",
       "      <td>1.1494</td>\n",
       "      <td>1.1533</td>\n",
       "      <td>11089</td>\n",
       "      <td>0.011397</td>\n",
       "      <td>0.001563</td>\n",
       "      <td>-0.012924</td>\n",
       "      <td>-0.182663</td>\n",
       "      <td>0.262551</td>\n",
       "      <td>-0.759365</td>\n",
       "      <td>0.123077</td>\n",
       "      <td>-1.698919</td>\n",
       "      <td>0.198607</td>\n",
       "      <td>3</td>\n",
       "      <td>0.016158</td>\n",
       "      <td>24.401101</td>\n",
       "    </tr>\n",
       "    <tr>\n",
       "      <th>1</th>\n",
       "      <td>1</td>\n",
       "      <td>2003.06.26</td>\n",
       "      <td>1.1534</td>\n",
       "      <td>1.1546</td>\n",
       "      <td>1.1414</td>\n",
       "      <td>1.1418</td>\n",
       "      <td>10675</td>\n",
       "      <td>0.011565</td>\n",
       "      <td>-0.010057</td>\n",
       "      <td>-0.026017</td>\n",
       "      <td>-0.048185</td>\n",
       "      <td>-1.102030</td>\n",
       "      <td>-1.730104</td>\n",
       "      <td>0.007722</td>\n",
       "      <td>-2.317003</td>\n",
       "      <td>-0.523230</td>\n",
       "      <td>4</td>\n",
       "      <td>0.014169</td>\n",
       "      <td>24.948900</td>\n",
       "    </tr>\n",
       "    <tr>\n",
       "      <th>2</th>\n",
       "      <td>1</td>\n",
       "      <td>2003.06.27</td>\n",
       "      <td>1.1419</td>\n",
       "      <td>1.1470</td>\n",
       "      <td>1.1399</td>\n",
       "      <td>1.1425</td>\n",
       "      <td>10052</td>\n",
       "      <td>0.006229</td>\n",
       "      <td>0.000525</td>\n",
       "      <td>-0.013300</td>\n",
       "      <td>-1.350905</td>\n",
       "      <td>0.230855</td>\n",
       "      <td>-0.570485</td>\n",
       "      <td>0.048780</td>\n",
       "      <td>-1.912566</td>\n",
       "      <td>-1.550458</td>\n",
       "      <td>5</td>\n",
       "      <td>0.012426</td>\n",
       "      <td>25.802551</td>\n",
       "    </tr>\n",
       "    <tr>\n",
       "      <th>3</th>\n",
       "      <td>1</td>\n",
       "      <td>2003.06.30</td>\n",
       "      <td>1.1430</td>\n",
       "      <td>1.1537</td>\n",
       "      <td>1.1400</td>\n",
       "      <td>1.1524</td>\n",
       "      <td>9587</td>\n",
       "      <td>0.012018</td>\n",
       "      <td>0.008224</td>\n",
       "      <td>-0.002251</td>\n",
       "      <td>0.170307</td>\n",
       "      <td>1.221419</td>\n",
       "      <td>0.366398</td>\n",
       "      <td>0.234522</td>\n",
       "      <td>-1.048361</td>\n",
       "      <td>-2.063830</td>\n",
       "      <td>1</td>\n",
       "      <td>0.011419</td>\n",
       "      <td>25.031274</td>\n",
       "    </tr>\n",
       "    <tr>\n",
       "      <th>4</th>\n",
       "      <td>-1</td>\n",
       "      <td>2003.07.01</td>\n",
       "      <td>1.1523</td>\n",
       "      <td>1.1613</td>\n",
       "      <td>1.1507</td>\n",
       "      <td>1.1567</td>\n",
       "      <td>9568</td>\n",
       "      <td>0.009212</td>\n",
       "      <td>0.003818</td>\n",
       "      <td>0.004516</td>\n",
       "      <td>-0.596454</td>\n",
       "      <td>0.590436</td>\n",
       "      <td>0.885835</td>\n",
       "      <td>0.315197</td>\n",
       "      <td>-0.660248</td>\n",
       "      <td>-1.805785</td>\n",
       "      <td>2</td>\n",
       "      <td>0.010742</td>\n",
       "      <td>22.799284</td>\n",
       "    </tr>\n",
       "  </tbody>\n",
       "</table>\n",
       "</div>"
      ],
      "text/plain": [
       "   Tomorrow_Direction        Date    Open    High     Low   Close  Volume  \\\n",
       "0                  -1  2003.06.25  1.1515  1.1625  1.1494  1.1533   11089   \n",
       "1                   1  2003.06.26  1.1534  1.1546  1.1414  1.1418   10675   \n",
       "2                   1  2003.06.27  1.1419  1.1470  1.1399  1.1425   10052   \n",
       "3                   1  2003.06.30  1.1430  1.1537  1.1400  1.1524    9587   \n",
       "4                  -1  2003.07.01  1.1523  1.1613  1.1507  1.1567    9568   \n",
       "\n",
       "      Range       ROC  Weekly_ROC  Standardized_Range_20  Standardized_ROC_20  \\\n",
       "0  0.011397  0.001563   -0.012924              -0.182663             0.262551   \n",
       "1  0.011565 -0.010057   -0.026017              -0.048185            -1.102030   \n",
       "2  0.006229  0.000525   -0.013300              -1.350905             0.230855   \n",
       "3  0.012018  0.008224   -0.002251               0.170307             1.221419   \n",
       "4  0.009212  0.003818    0.004516              -0.596454             0.590436   \n",
       "\n",
       "   Standardized_Weekly_ROC_20  Stochastic_20  Standardized_Close_20  \\\n",
       "0                   -0.759365       0.123077              -1.698919   \n",
       "1                   -1.730104       0.007722              -2.317003   \n",
       "2                   -0.570485       0.048780              -1.912566   \n",
       "3                    0.366398       0.234522              -1.048361   \n",
       "4                    0.885835       0.315197              -0.660248   \n",
       "\n",
       "   Standardized_Volume_20  Day_of_Week  MACD_20_50     ADX_20  \n",
       "0                0.198607            3    0.016158  24.401101  \n",
       "1               -0.523230            4    0.014169  24.948900  \n",
       "2               -1.550458            5    0.012426  25.802551  \n",
       "3               -2.063830            1    0.011419  25.031274  \n",
       "4               -1.805785            2    0.010742  22.799284  "
      ]
     },
     "execution_count": 5,
     "metadata": {},
     "output_type": "execute_result"
    }
   ],
   "source": [
    "# Reading and printing the first five rows of the dataset\n",
    "eur_usd_df = pd.read_csv(\"EURUSD_5000.csv\")\n",
    "eur_usd_df.head()"
   ]
  },
  {
   "cell_type": "code",
   "execution_count": 6,
   "id": "de5d7bd3",
   "metadata": {},
   "outputs": [
    {
     "data": {
      "text/plain": [
       "(5000, 19)"
      ]
     },
     "execution_count": 6,
     "metadata": {},
     "output_type": "execute_result"
    }
   ],
   "source": [
    "# Checking the dimensions of the dataframe\n",
    "eur_usd_df.shape"
   ]
  },
  {
   "cell_type": "code",
   "execution_count": 7,
   "id": "1e5bec8a",
   "metadata": {},
   "outputs": [
    {
     "name": "stdout",
     "output_type": "stream",
     "text": [
      "<class 'pandas.core.frame.DataFrame'>\n",
      "RangeIndex: 5000 entries, 0 to 4999\n",
      "Data columns (total 19 columns):\n",
      " #   Column                      Non-Null Count  Dtype  \n",
      "---  ------                      --------------  -----  \n",
      " 0   Tomorrow_Direction          5000 non-null   int64  \n",
      " 1   Date                        5000 non-null   object \n",
      " 2   Open                        5000 non-null   float64\n",
      " 3   High                        5000 non-null   float64\n",
      " 4   Low                         5000 non-null   float64\n",
      " 5   Close                       5000 non-null   float64\n",
      " 6   Volume                      5000 non-null   int64  \n",
      " 7   Range                       5000 non-null   float64\n",
      " 8   ROC                         5000 non-null   float64\n",
      " 9   Weekly_ROC                  5000 non-null   float64\n",
      " 10  Standardized_Range_20       5000 non-null   float64\n",
      " 11  Standardized_ROC_20         5000 non-null   float64\n",
      " 12  Standardized_Weekly_ROC_20  5000 non-null   float64\n",
      " 13  Stochastic_20               5000 non-null   float64\n",
      " 14  Standardized_Close_20       5000 non-null   float64\n",
      " 15  Standardized_Volume_20      5000 non-null   float64\n",
      " 16  Day_of_Week                 5000 non-null   int64  \n",
      " 17  MACD_20_50                  5000 non-null   float64\n",
      " 18  ADX_20                      5000 non-null   float64\n",
      "dtypes: float64(15), int64(3), object(1)\n",
      "memory usage: 742.3+ KB\n"
     ]
    }
   ],
   "source": [
    "# Checking for the null values and data types of each column\n",
    "eur_usd_df.info()"
   ]
  },
  {
   "cell_type": "code",
   "execution_count": 8,
   "id": "edc7d88d",
   "metadata": {},
   "outputs": [
    {
     "data": {
      "text/plain": [
       "Tomorrow_Direction            0\n",
       "Date                          0\n",
       "Open                          0\n",
       "High                          0\n",
       "Low                           0\n",
       "Close                         0\n",
       "Volume                        0\n",
       "Range                         0\n",
       "ROC                           0\n",
       "Weekly_ROC                    0\n",
       "Standardized_Range_20         0\n",
       "Standardized_ROC_20           0\n",
       "Standardized_Weekly_ROC_20    0\n",
       "Stochastic_20                 0\n",
       "Standardized_Close_20         0\n",
       "Standardized_Volume_20        0\n",
       "Day_of_Week                   0\n",
       "MACD_20_50                    0\n",
       "ADX_20                        0\n",
       "dtype: int64"
      ]
     },
     "execution_count": 8,
     "metadata": {},
     "output_type": "execute_result"
    }
   ],
   "source": [
    "eur_usd_df.isna().sum()"
   ]
  },
  {
   "cell_type": "markdown",
   "id": "6163b765",
   "metadata": {},
   "source": [
    "#### Inference: \n",
    "1. There are only non-null values in the data.\n",
    "2. All the features have the correct data types.\n",
    "3. The target variable ('Tomorrow_Direction') is of dtype int64 but will be considered categorical.  "
   ]
  },
  {
   "cell_type": "code",
   "execution_count": 9,
   "id": "7aa47904",
   "metadata": {},
   "outputs": [
    {
     "data": {
      "text/plain": [
       "Tomorrow_Direction\n",
       "-1    2459\n",
       " 0      19\n",
       " 1    2522\n",
       "Name: Tomorrow_Direction, dtype: int64"
      ]
     },
     "execution_count": 9,
     "metadata": {},
     "output_type": "execute_result"
    }
   ],
   "source": [
    "eur_usd_df.groupby('Tomorrow_Direction')['Tomorrow_Direction'].count()"
   ]
  },
  {
   "cell_type": "markdown",
   "id": "fc0a58d5",
   "metadata": {},
   "source": [
    "#### Inference\n",
    "We can see how the category '-1' (Downward direction of the exchange) and '1' (Upward direction of the exchange) are fairly balanced, on the other hand '0' (the category representing a constant value) is very rare.\n",
    "Only 19 occurrences in almost 20 years worth of data represent an anomaly. Keeping this information would turn our problem from a 2 classes to a 3 classes categorization problem. This complication seems unreasonable for an event so rare. For this reason we will consider it as an outlier and remove these 19 data-points from our dataset."
   ]
  },
  {
   "cell_type": "code",
   "execution_count": 10,
   "id": "28908513",
   "metadata": {},
   "outputs": [
    {
     "data": {
      "text/plain": [
       "(4981, 19)"
      ]
     },
     "execution_count": 10,
     "metadata": {},
     "output_type": "execute_result"
    }
   ],
   "source": [
    "eur_usd_df = eur_usd_df[eur_usd_df.Tomorrow_Direction != 0]\n",
    "eur_usd_df.shape"
   ]
  },
  {
   "cell_type": "code",
   "execution_count": 11,
   "id": "8bc68ca4",
   "metadata": {},
   "outputs": [
    {
     "data": {
      "text/html": [
       "<div>\n",
       "<style scoped>\n",
       "    .dataframe tbody tr th:only-of-type {\n",
       "        vertical-align: middle;\n",
       "    }\n",
       "\n",
       "    .dataframe tbody tr th {\n",
       "        vertical-align: top;\n",
       "    }\n",
       "\n",
       "    .dataframe thead th {\n",
       "        text-align: right;\n",
       "    }\n",
       "</style>\n",
       "<table border=\"1\" class=\"dataframe\">\n",
       "  <thead>\n",
       "    <tr style=\"text-align: right;\">\n",
       "      <th></th>\n",
       "      <th>Tomorrow_Direction</th>\n",
       "      <th>Open</th>\n",
       "      <th>High</th>\n",
       "      <th>Low</th>\n",
       "      <th>Close</th>\n",
       "      <th>Volume</th>\n",
       "      <th>Range</th>\n",
       "      <th>ROC</th>\n",
       "      <th>Weekly_ROC</th>\n",
       "      <th>Standardized_Range_20</th>\n",
       "      <th>Standardized_ROC_20</th>\n",
       "      <th>Standardized_Weekly_ROC_20</th>\n",
       "      <th>Stochastic_20</th>\n",
       "      <th>Standardized_Close_20</th>\n",
       "      <th>Standardized_Volume_20</th>\n",
       "      <th>Day_of_Week</th>\n",
       "      <th>MACD_20_50</th>\n",
       "      <th>ADX_20</th>\n",
       "    </tr>\n",
       "  </thead>\n",
       "  <tbody>\n",
       "    <tr>\n",
       "      <th>count</th>\n",
       "      <td>4981.000000</td>\n",
       "      <td>4981.000000</td>\n",
       "      <td>4981.000000</td>\n",
       "      <td>4981.000000</td>\n",
       "      <td>4981.000000</td>\n",
       "      <td>4981.000000</td>\n",
       "      <td>4981.000000</td>\n",
       "      <td>4981.000000</td>\n",
       "      <td>4981.000000</td>\n",
       "      <td>4981.000000</td>\n",
       "      <td>4981.000000</td>\n",
       "      <td>4981.000000</td>\n",
       "      <td>4981.000000</td>\n",
       "      <td>4981.000000</td>\n",
       "      <td>4981.000000</td>\n",
       "      <td>4981.000000</td>\n",
       "      <td>4981.000000</td>\n",
       "      <td>4981.000000</td>\n",
       "    </tr>\n",
       "    <tr>\n",
       "      <th>mean</th>\n",
       "      <td>0.012648</td>\n",
       "      <td>1.246302</td>\n",
       "      <td>1.251728</td>\n",
       "      <td>1.241005</td>\n",
       "      <td>1.246322</td>\n",
       "      <td>58653.982333</td>\n",
       "      <td>0.008606</td>\n",
       "      <td>0.000034</td>\n",
       "      <td>-0.000024</td>\n",
       "      <td>-0.011949</td>\n",
       "      <td>-0.000378</td>\n",
       "      <td>0.000871</td>\n",
       "      <td>0.491821</td>\n",
       "      <td>-0.006525</td>\n",
       "      <td>-0.013717</td>\n",
       "      <td>2.999598</td>\n",
       "      <td>-0.000397</td>\n",
       "      <td>26.146781</td>\n",
       "    </tr>\n",
       "    <tr>\n",
       "      <th>std</th>\n",
       "      <td>1.000020</td>\n",
       "      <td>0.122904</td>\n",
       "      <td>0.123645</td>\n",
       "      <td>0.121972</td>\n",
       "      <td>0.122886</td>\n",
       "      <td>44686.769758</td>\n",
       "      <td>0.004681</td>\n",
       "      <td>0.005804</td>\n",
       "      <td>0.012771</td>\n",
       "      <td>0.986298</td>\n",
       "      <td>0.970539</td>\n",
       "      <td>1.091200</td>\n",
       "      <td>0.307432</td>\n",
       "      <td>1.287056</td>\n",
       "      <td>1.105759</td>\n",
       "      <td>1.413929</td>\n",
       "      <td>0.013299</td>\n",
       "      <td>10.318842</td>\n",
       "    </tr>\n",
       "    <tr>\n",
       "      <th>min</th>\n",
       "      <td>-1.000000</td>\n",
       "      <td>0.990310</td>\n",
       "      <td>0.994430</td>\n",
       "      <td>0.981270</td>\n",
       "      <td>0.983720</td>\n",
       "      <td>1.000000</td>\n",
       "      <td>0.000000</td>\n",
       "      <td>-0.026529</td>\n",
       "      <td>-0.065261</td>\n",
       "      <td>-2.404827</td>\n",
       "      <td>-3.598988</td>\n",
       "      <td>-3.384675</td>\n",
       "      <td>0.000000</td>\n",
       "      <td>-3.140685</td>\n",
       "      <td>-3.879980</td>\n",
       "      <td>1.000000</td>\n",
       "      <td>-0.061788</td>\n",
       "      <td>8.493487</td>\n",
       "    </tr>\n",
       "    <tr>\n",
       "      <th>1%</th>\n",
       "      <td>-1.000000</td>\n",
       "      <td>1.024060</td>\n",
       "      <td>1.027656</td>\n",
       "      <td>1.017540</td>\n",
       "      <td>1.022916</td>\n",
       "      <td>4917.200000</td>\n",
       "      <td>0.002348</td>\n",
       "      <td>-0.015577</td>\n",
       "      <td>-0.032923</td>\n",
       "      <td>-1.690659</td>\n",
       "      <td>-2.212477</td>\n",
       "      <td>-2.419186</td>\n",
       "      <td>0.010215</td>\n",
       "      <td>-2.495046</td>\n",
       "      <td>-2.626391</td>\n",
       "      <td>1.000000</td>\n",
       "      <td>-0.040453</td>\n",
       "      <td>11.614175</td>\n",
       "    </tr>\n",
       "    <tr>\n",
       "      <th>25%</th>\n",
       "      <td>-1.000000</td>\n",
       "      <td>1.136910</td>\n",
       "      <td>1.141470</td>\n",
       "      <td>1.132700</td>\n",
       "      <td>1.136890</td>\n",
       "      <td>13112.000000</td>\n",
       "      <td>0.005483</td>\n",
       "      <td>-0.003178</td>\n",
       "      <td>-0.007506</td>\n",
       "      <td>-0.720333</td>\n",
       "      <td>-0.648396</td>\n",
       "      <td>-0.780612</td>\n",
       "      <td>0.207145</td>\n",
       "      <td>-1.085375</td>\n",
       "      <td>-0.767990</td>\n",
       "      <td>2.000000</td>\n",
       "      <td>-0.007198</td>\n",
       "      <td>18.424528</td>\n",
       "    </tr>\n",
       "    <tr>\n",
       "      <th>50%</th>\n",
       "      <td>1.000000</td>\n",
       "      <td>1.232760</td>\n",
       "      <td>1.238100</td>\n",
       "      <td>1.226670</td>\n",
       "      <td>1.232610</td>\n",
       "      <td>53078.000000</td>\n",
       "      <td>0.007544</td>\n",
       "      <td>0.000066</td>\n",
       "      <td>0.000081</td>\n",
       "      <td>-0.183578</td>\n",
       "      <td>0.011982</td>\n",
       "      <td>0.015121</td>\n",
       "      <td>0.477528</td>\n",
       "      <td>-0.022924</td>\n",
       "      <td>-0.029159</td>\n",
       "      <td>3.000000</td>\n",
       "      <td>0.000333</td>\n",
       "      <td>23.950557</td>\n",
       "    </tr>\n",
       "    <tr>\n",
       "      <th>75%</th>\n",
       "      <td>1.000000</td>\n",
       "      <td>1.335180</td>\n",
       "      <td>1.339860</td>\n",
       "      <td>1.328630</td>\n",
       "      <td>1.335400</td>\n",
       "      <td>83107.000000</td>\n",
       "      <td>0.010572</td>\n",
       "      <td>0.003244</td>\n",
       "      <td>0.007750</td>\n",
       "      <td>0.565991</td>\n",
       "      <td>0.639866</td>\n",
       "      <td>0.795691</td>\n",
       "      <td>0.775161</td>\n",
       "      <td>1.091672</td>\n",
       "      <td>0.706061</td>\n",
       "      <td>4.000000</td>\n",
       "      <td>0.007609</td>\n",
       "      <td>31.346321</td>\n",
       "    </tr>\n",
       "    <tr>\n",
       "      <th>99%</th>\n",
       "      <td>1.000000</td>\n",
       "      <td>1.566680</td>\n",
       "      <td>1.575060</td>\n",
       "      <td>1.558600</td>\n",
       "      <td>1.566660</td>\n",
       "      <td>182602.000000</td>\n",
       "      <td>0.025092</td>\n",
       "      <td>0.015034</td>\n",
       "      <td>0.029770</td>\n",
       "      <td>2.897757</td>\n",
       "      <td>2.303048</td>\n",
       "      <td>2.326552</td>\n",
       "      <td>0.986754</td>\n",
       "      <td>2.483336</td>\n",
       "      <td>2.732283</td>\n",
       "      <td>5.000000</td>\n",
       "      <td>0.028757</td>\n",
       "      <td>58.610048</td>\n",
       "    </tr>\n",
       "    <tr>\n",
       "      <th>max</th>\n",
       "      <td>1.000000</td>\n",
       "      <td>1.599500</td>\n",
       "      <td>1.603800</td>\n",
       "      <td>1.586600</td>\n",
       "      <td>1.599700</td>\n",
       "      <td>308719.000000</td>\n",
       "      <td>0.047336</td>\n",
       "      <td>0.034983</td>\n",
       "      <td>0.106144</td>\n",
       "      <td>4.073759</td>\n",
       "      <td>3.517669</td>\n",
       "      <td>3.331814</td>\n",
       "      <td>1.000000</td>\n",
       "      <td>3.454867</td>\n",
       "      <td>4.112535</td>\n",
       "      <td>5.000000</td>\n",
       "      <td>0.036040</td>\n",
       "      <td>67.820681</td>\n",
       "    </tr>\n",
       "  </tbody>\n",
       "</table>\n",
       "</div>"
      ],
      "text/plain": [
       "       Tomorrow_Direction         Open         High          Low        Close  \\\n",
       "count         4981.000000  4981.000000  4981.000000  4981.000000  4981.000000   \n",
       "mean             0.012648     1.246302     1.251728     1.241005     1.246322   \n",
       "std              1.000020     0.122904     0.123645     0.121972     0.122886   \n",
       "min             -1.000000     0.990310     0.994430     0.981270     0.983720   \n",
       "1%              -1.000000     1.024060     1.027656     1.017540     1.022916   \n",
       "25%             -1.000000     1.136910     1.141470     1.132700     1.136890   \n",
       "50%              1.000000     1.232760     1.238100     1.226670     1.232610   \n",
       "75%              1.000000     1.335180     1.339860     1.328630     1.335400   \n",
       "99%              1.000000     1.566680     1.575060     1.558600     1.566660   \n",
       "max              1.000000     1.599500     1.603800     1.586600     1.599700   \n",
       "\n",
       "              Volume        Range          ROC   Weekly_ROC  \\\n",
       "count    4981.000000  4981.000000  4981.000000  4981.000000   \n",
       "mean    58653.982333     0.008606     0.000034    -0.000024   \n",
       "std     44686.769758     0.004681     0.005804     0.012771   \n",
       "min         1.000000     0.000000    -0.026529    -0.065261   \n",
       "1%       4917.200000     0.002348    -0.015577    -0.032923   \n",
       "25%     13112.000000     0.005483    -0.003178    -0.007506   \n",
       "50%     53078.000000     0.007544     0.000066     0.000081   \n",
       "75%     83107.000000     0.010572     0.003244     0.007750   \n",
       "99%    182602.000000     0.025092     0.015034     0.029770   \n",
       "max    308719.000000     0.047336     0.034983     0.106144   \n",
       "\n",
       "       Standardized_Range_20  Standardized_ROC_20  Standardized_Weekly_ROC_20  \\\n",
       "count            4981.000000          4981.000000                 4981.000000   \n",
       "mean               -0.011949            -0.000378                    0.000871   \n",
       "std                 0.986298             0.970539                    1.091200   \n",
       "min                -2.404827            -3.598988                   -3.384675   \n",
       "1%                 -1.690659            -2.212477                   -2.419186   \n",
       "25%                -0.720333            -0.648396                   -0.780612   \n",
       "50%                -0.183578             0.011982                    0.015121   \n",
       "75%                 0.565991             0.639866                    0.795691   \n",
       "99%                 2.897757             2.303048                    2.326552   \n",
       "max                 4.073759             3.517669                    3.331814   \n",
       "\n",
       "       Stochastic_20  Standardized_Close_20  Standardized_Volume_20  \\\n",
       "count    4981.000000            4981.000000             4981.000000   \n",
       "mean        0.491821              -0.006525               -0.013717   \n",
       "std         0.307432               1.287056                1.105759   \n",
       "min         0.000000              -3.140685               -3.879980   \n",
       "1%          0.010215              -2.495046               -2.626391   \n",
       "25%         0.207145              -1.085375               -0.767990   \n",
       "50%         0.477528              -0.022924               -0.029159   \n",
       "75%         0.775161               1.091672                0.706061   \n",
       "99%         0.986754               2.483336                2.732283   \n",
       "max         1.000000               3.454867                4.112535   \n",
       "\n",
       "       Day_of_Week   MACD_20_50       ADX_20  \n",
       "count  4981.000000  4981.000000  4981.000000  \n",
       "mean      2.999598    -0.000397    26.146781  \n",
       "std       1.413929     0.013299    10.318842  \n",
       "min       1.000000    -0.061788     8.493487  \n",
       "1%        1.000000    -0.040453    11.614175  \n",
       "25%       2.000000    -0.007198    18.424528  \n",
       "50%       3.000000     0.000333    23.950557  \n",
       "75%       4.000000     0.007609    31.346321  \n",
       "99%       5.000000     0.028757    58.610048  \n",
       "max       5.000000     0.036040    67.820681  "
      ]
     },
     "execution_count": 11,
     "metadata": {},
     "output_type": "execute_result"
    }
   ],
   "source": [
    "# Checking for ouliers in the data\n",
    "eur_usd_df.describe(percentiles=[.01, .25, .50, .75, .99])"
   ]
  },
  {
   "cell_type": "markdown",
   "id": "bb819560",
   "metadata": {},
   "source": [
    "#### Inference: \n",
    "It's possible to see some outliers are present in the dataset, we will proceed to calculate the amount."
   ]
  },
  {
   "cell_type": "code",
   "execution_count": 12,
   "id": "8f4d5375",
   "metadata": {},
   "outputs": [
    {
     "data": {
      "text/html": [
       "<div>\n",
       "<style scoped>\n",
       "    .dataframe tbody tr th:only-of-type {\n",
       "        vertical-align: middle;\n",
       "    }\n",
       "\n",
       "    .dataframe tbody tr th {\n",
       "        vertical-align: top;\n",
       "    }\n",
       "\n",
       "    .dataframe thead th {\n",
       "        text-align: right;\n",
       "    }\n",
       "</style>\n",
       "<table border=\"1\" class=\"dataframe\">\n",
       "  <thead>\n",
       "    <tr style=\"text-align: right;\">\n",
       "      <th></th>\n",
       "      <th>outliers_up</th>\n",
       "      <th>outliers_down</th>\n",
       "    </tr>\n",
       "  </thead>\n",
       "  <tbody>\n",
       "    <tr>\n",
       "      <th>Tomorrow_Direction</th>\n",
       "      <td>0</td>\n",
       "      <td>0</td>\n",
       "    </tr>\n",
       "    <tr>\n",
       "      <th>Open</th>\n",
       "      <td>0</td>\n",
       "      <td>0</td>\n",
       "    </tr>\n",
       "    <tr>\n",
       "      <th>High</th>\n",
       "      <td>0</td>\n",
       "      <td>0</td>\n",
       "    </tr>\n",
       "    <tr>\n",
       "      <th>Low</th>\n",
       "      <td>0</td>\n",
       "      <td>0</td>\n",
       "    </tr>\n",
       "    <tr>\n",
       "      <th>Close</th>\n",
       "      <td>0</td>\n",
       "      <td>0</td>\n",
       "    </tr>\n",
       "    <tr>\n",
       "      <th>Volume</th>\n",
       "      <td>40</td>\n",
       "      <td>0</td>\n",
       "    </tr>\n",
       "    <tr>\n",
       "      <th>Range</th>\n",
       "      <td>192</td>\n",
       "      <td>0</td>\n",
       "    </tr>\n",
       "    <tr>\n",
       "      <th>ROC</th>\n",
       "      <td>89</td>\n",
       "      <td>100</td>\n",
       "    </tr>\n",
       "    <tr>\n",
       "      <th>Weekly_ROC</th>\n",
       "      <td>45</td>\n",
       "      <td>77</td>\n",
       "    </tr>\n",
       "    <tr>\n",
       "      <th>Standardized_Range_20</th>\n",
       "      <td>99</td>\n",
       "      <td>0</td>\n",
       "    </tr>\n",
       "    <tr>\n",
       "      <th>Standardized_ROC_20</th>\n",
       "      <td>24</td>\n",
       "      <td>17</td>\n",
       "    </tr>\n",
       "    <tr>\n",
       "      <th>Standardized_Weekly_ROC_20</th>\n",
       "      <td>2</td>\n",
       "      <td>1</td>\n",
       "    </tr>\n",
       "    <tr>\n",
       "      <th>Stochastic_20</th>\n",
       "      <td>0</td>\n",
       "      <td>0</td>\n",
       "    </tr>\n",
       "    <tr>\n",
       "      <th>Standardized_Close_20</th>\n",
       "      <td>0</td>\n",
       "      <td>0</td>\n",
       "    </tr>\n",
       "    <tr>\n",
       "      <th>Standardized_Volume_20</th>\n",
       "      <td>36</td>\n",
       "      <td>24</td>\n",
       "    </tr>\n",
       "    <tr>\n",
       "      <th>Day_of_Week</th>\n",
       "      <td>0</td>\n",
       "      <td>0</td>\n",
       "    </tr>\n",
       "    <tr>\n",
       "      <th>MACD_20_50</th>\n",
       "      <td>29</td>\n",
       "      <td>134</td>\n",
       "    </tr>\n",
       "    <tr>\n",
       "      <th>ADX_20</th>\n",
       "      <td>160</td>\n",
       "      <td>0</td>\n",
       "    </tr>\n",
       "  </tbody>\n",
       "</table>\n",
       "</div>"
      ],
      "text/plain": [
       "                            outliers_up  outliers_down\n",
       "Tomorrow_Direction                    0              0\n",
       "Open                                  0              0\n",
       "High                                  0              0\n",
       "Low                                   0              0\n",
       "Close                                 0              0\n",
       "Volume                               40              0\n",
       "Range                               192              0\n",
       "ROC                                  89            100\n",
       "Weekly_ROC                           45             77\n",
       "Standardized_Range_20                99              0\n",
       "Standardized_ROC_20                  24             17\n",
       "Standardized_Weekly_ROC_20            2              1\n",
       "Stochastic_20                         0              0\n",
       "Standardized_Close_20                 0              0\n",
       "Standardized_Volume_20               36             24\n",
       "Day_of_Week                           0              0\n",
       "MACD_20_50                           29            134\n",
       "ADX_20                              160              0"
      ]
     },
     "execution_count": 12,
     "metadata": {},
     "output_type": "execute_result"
    }
   ],
   "source": [
    "dict_outliers = {}\n",
    "for col in eur_usd_df.columns:\n",
    "    if col != 'Date':\n",
    "        # Calculating interquartile range\n",
    "        q25 = eur_usd_df[col].quantile(0.25)\n",
    "        q75 = eur_usd_df[col].quantile(0.75)\n",
    "        iqr = q75 - q25\n",
    "\n",
    "        # Calculating the outlier cutoff\n",
    "        cut_off = iqr * 1.5\n",
    "        upper = q75 + cut_off\n",
    "        lower = q25 - cut_off\n",
    "\n",
    "        # Identify outliers\n",
    "        outliers_up = eur_usd_df[eur_usd_df[col]>upper]\n",
    "        outliers_down = eur_usd_df[eur_usd_df[col]<lower]\n",
    "        # Number of records that are outliers\n",
    "        dict_outliers.update({col:{'outliers_up': len(outliers_up),'outliers_down': len(outliers_down)}})\n",
    "    \n",
    "out_df = pd.DataFrame(dict_outliers)\n",
    "out_df.T"
   ]
  },
  {
   "cell_type": "markdown",
   "id": "500b0894",
   "metadata": {},
   "source": [
    "#### Inference\n",
    "The number of outliers is quite high, this is due to the nature of the data we are evaluating and after careful consideration we decided to not remove them and consider them as a normal part of the informations we are processing."
   ]
  },
  {
   "cell_type": "markdown",
   "id": "a64c5f5f",
   "metadata": {},
   "source": [
    "We can also observe that unlike the other features 'Volume' is outstanding for the high values it assumes. We proceed to normalize it."
   ]
  },
  {
   "cell_type": "code",
   "execution_count": 13,
   "id": "fa8e9a16",
   "metadata": {},
   "outputs": [],
   "source": [
    "# Normalizing Volume feature\n",
    "eur_usd_df[\"Volume\"]=(eur_usd_df[\"Volume\"]-eur_usd_df[\"Volume\"].min())/(eur_usd_df[\"Volume\"].max()-eur_usd_df[\"Volume\"].min())"
   ]
  },
  {
   "cell_type": "code",
   "execution_count": 14,
   "id": "ff5f9d5f",
   "metadata": {},
   "outputs": [
    {
     "data": {
      "text/html": [
       "<div>\n",
       "<style scoped>\n",
       "    .dataframe tbody tr th:only-of-type {\n",
       "        vertical-align: middle;\n",
       "    }\n",
       "\n",
       "    .dataframe tbody tr th {\n",
       "        vertical-align: top;\n",
       "    }\n",
       "\n",
       "    .dataframe thead th {\n",
       "        text-align: right;\n",
       "    }\n",
       "</style>\n",
       "<table border=\"1\" class=\"dataframe\">\n",
       "  <thead>\n",
       "    <tr style=\"text-align: right;\">\n",
       "      <th></th>\n",
       "      <th>Tomorrow_Direction</th>\n",
       "      <th>Open</th>\n",
       "      <th>High</th>\n",
       "      <th>Low</th>\n",
       "      <th>Close</th>\n",
       "      <th>Volume</th>\n",
       "      <th>Range</th>\n",
       "      <th>ROC</th>\n",
       "      <th>Weekly_ROC</th>\n",
       "      <th>Standardized_Range_20</th>\n",
       "      <th>Standardized_ROC_20</th>\n",
       "      <th>Standardized_Weekly_ROC_20</th>\n",
       "      <th>Stochastic_20</th>\n",
       "      <th>Standardized_Close_20</th>\n",
       "      <th>Standardized_Volume_20</th>\n",
       "      <th>Day_of_Week</th>\n",
       "      <th>MACD_20_50</th>\n",
       "      <th>ADX_20</th>\n",
       "    </tr>\n",
       "  </thead>\n",
       "  <tbody>\n",
       "    <tr>\n",
       "      <th>0</th>\n",
       "      <td>-1</td>\n",
       "      <td>1.15150</td>\n",
       "      <td>1.16250</td>\n",
       "      <td>1.14940</td>\n",
       "      <td>1.15330</td>\n",
       "      <td>0.035916</td>\n",
       "      <td>0.011397</td>\n",
       "      <td>0.001563</td>\n",
       "      <td>-0.012924</td>\n",
       "      <td>-0.182663</td>\n",
       "      <td>0.262551</td>\n",
       "      <td>-0.759365</td>\n",
       "      <td>0.123077</td>\n",
       "      <td>-1.698919</td>\n",
       "      <td>0.198607</td>\n",
       "      <td>3</td>\n",
       "      <td>0.016158</td>\n",
       "      <td>24.401101</td>\n",
       "    </tr>\n",
       "    <tr>\n",
       "      <th>1</th>\n",
       "      <td>1</td>\n",
       "      <td>1.15340</td>\n",
       "      <td>1.15460</td>\n",
       "      <td>1.14140</td>\n",
       "      <td>1.14180</td>\n",
       "      <td>0.034575</td>\n",
       "      <td>0.011565</td>\n",
       "      <td>-0.010057</td>\n",
       "      <td>-0.026017</td>\n",
       "      <td>-0.048185</td>\n",
       "      <td>-1.102030</td>\n",
       "      <td>-1.730104</td>\n",
       "      <td>0.007722</td>\n",
       "      <td>-2.317003</td>\n",
       "      <td>-0.523230</td>\n",
       "      <td>4</td>\n",
       "      <td>0.014169</td>\n",
       "      <td>24.948900</td>\n",
       "    </tr>\n",
       "    <tr>\n",
       "      <th>2</th>\n",
       "      <td>1</td>\n",
       "      <td>1.14190</td>\n",
       "      <td>1.14700</td>\n",
       "      <td>1.13990</td>\n",
       "      <td>1.14250</td>\n",
       "      <td>0.032557</td>\n",
       "      <td>0.006229</td>\n",
       "      <td>0.000525</td>\n",
       "      <td>-0.013300</td>\n",
       "      <td>-1.350905</td>\n",
       "      <td>0.230855</td>\n",
       "      <td>-0.570485</td>\n",
       "      <td>0.048780</td>\n",
       "      <td>-1.912566</td>\n",
       "      <td>-1.550458</td>\n",
       "      <td>5</td>\n",
       "      <td>0.012426</td>\n",
       "      <td>25.802551</td>\n",
       "    </tr>\n",
       "    <tr>\n",
       "      <th>3</th>\n",
       "      <td>1</td>\n",
       "      <td>1.14300</td>\n",
       "      <td>1.15370</td>\n",
       "      <td>1.14000</td>\n",
       "      <td>1.15240</td>\n",
       "      <td>0.031051</td>\n",
       "      <td>0.012018</td>\n",
       "      <td>0.008224</td>\n",
       "      <td>-0.002251</td>\n",
       "      <td>0.170307</td>\n",
       "      <td>1.221419</td>\n",
       "      <td>0.366398</td>\n",
       "      <td>0.234522</td>\n",
       "      <td>-1.048361</td>\n",
       "      <td>-2.063830</td>\n",
       "      <td>1</td>\n",
       "      <td>0.011419</td>\n",
       "      <td>25.031274</td>\n",
       "    </tr>\n",
       "    <tr>\n",
       "      <th>4</th>\n",
       "      <td>-1</td>\n",
       "      <td>1.15230</td>\n",
       "      <td>1.16130</td>\n",
       "      <td>1.15070</td>\n",
       "      <td>1.15670</td>\n",
       "      <td>0.030989</td>\n",
       "      <td>0.009212</td>\n",
       "      <td>0.003818</td>\n",
       "      <td>0.004516</td>\n",
       "      <td>-0.596454</td>\n",
       "      <td>0.590436</td>\n",
       "      <td>0.885835</td>\n",
       "      <td>0.315197</td>\n",
       "      <td>-0.660248</td>\n",
       "      <td>-1.805785</td>\n",
       "      <td>2</td>\n",
       "      <td>0.010742</td>\n",
       "      <td>22.799284</td>\n",
       "    </tr>\n",
       "    <tr>\n",
       "      <th>...</th>\n",
       "      <td>...</td>\n",
       "      <td>...</td>\n",
       "      <td>...</td>\n",
       "      <td>...</td>\n",
       "      <td>...</td>\n",
       "      <td>...</td>\n",
       "      <td>...</td>\n",
       "      <td>...</td>\n",
       "      <td>...</td>\n",
       "      <td>...</td>\n",
       "      <td>...</td>\n",
       "      <td>...</td>\n",
       "      <td>...</td>\n",
       "      <td>...</td>\n",
       "      <td>...</td>\n",
       "      <td>...</td>\n",
       "      <td>...</td>\n",
       "      <td>...</td>\n",
       "    </tr>\n",
       "    <tr>\n",
       "      <th>4995</th>\n",
       "      <td>1</td>\n",
       "      <td>0.99781</td>\n",
       "      <td>1.00181</td>\n",
       "      <td>0.99556</td>\n",
       "      <td>0.99966</td>\n",
       "      <td>0.290767</td>\n",
       "      <td>0.006278</td>\n",
       "      <td>0.001854</td>\n",
       "      <td>-0.000170</td>\n",
       "      <td>-1.235903</td>\n",
       "      <td>0.385388</td>\n",
       "      <td>0.262369</td>\n",
       "      <td>0.397125</td>\n",
       "      <td>0.158557</td>\n",
       "      <td>-1.697365</td>\n",
       "      <td>4</td>\n",
       "      <td>-0.010682</td>\n",
       "      <td>18.569969</td>\n",
       "    </tr>\n",
       "    <tr>\n",
       "      <th>4996</th>\n",
       "      <td>1</td>\n",
       "      <td>0.99975</td>\n",
       "      <td>1.00367</td>\n",
       "      <td>0.99444</td>\n",
       "      <td>1.00129</td>\n",
       "      <td>0.330742</td>\n",
       "      <td>0.009282</td>\n",
       "      <td>0.001540</td>\n",
       "      <td>-0.008791</td>\n",
       "      <td>-0.505310</td>\n",
       "      <td>0.280573</td>\n",
       "      <td>-0.559334</td>\n",
       "      <td>0.445942</td>\n",
       "      <td>0.525663</td>\n",
       "      <td>-0.988528</td>\n",
       "      <td>5</td>\n",
       "      <td>-0.010319</td>\n",
       "      <td>17.601942</td>\n",
       "    </tr>\n",
       "    <tr>\n",
       "      <th>4997</th>\n",
       "      <td>-1</td>\n",
       "      <td>1.00043</td>\n",
       "      <td>1.00291</td>\n",
       "      <td>0.99659</td>\n",
       "      <td>1.00240</td>\n",
       "      <td>0.254601</td>\n",
       "      <td>0.006342</td>\n",
       "      <td>0.001969</td>\n",
       "      <td>-0.009555</td>\n",
       "      <td>-1.180031</td>\n",
       "      <td>0.278174</td>\n",
       "      <td>-0.730872</td>\n",
       "      <td>0.479185</td>\n",
       "      <td>0.678504</td>\n",
       "      <td>-2.290141</td>\n",
       "      <td>1</td>\n",
       "      <td>-0.009903</td>\n",
       "      <td>16.726108</td>\n",
       "    </tr>\n",
       "    <tr>\n",
       "      <th>4998</th>\n",
       "      <td>-1</td>\n",
       "      <td>1.00197</td>\n",
       "      <td>1.00506</td>\n",
       "      <td>0.99549</td>\n",
       "      <td>0.99711</td>\n",
       "      <td>0.324549</td>\n",
       "      <td>0.009613</td>\n",
       "      <td>-0.004850</td>\n",
       "      <td>0.000371</td>\n",
       "      <td>-0.294366</td>\n",
       "      <td>-0.926199</td>\n",
       "      <td>0.150651</td>\n",
       "      <td>0.320755</td>\n",
       "      <td>-0.427044</td>\n",
       "      <td>-0.862711</td>\n",
       "      <td>2</td>\n",
       "      <td>-0.009800</td>\n",
       "      <td>16.589147</td>\n",
       "    </tr>\n",
       "    <tr>\n",
       "      <th>4999</th>\n",
       "      <td>1</td>\n",
       "      <td>0.99697</td>\n",
       "      <td>0.99753</td>\n",
       "      <td>0.98127</td>\n",
       "      <td>0.98372</td>\n",
       "      <td>0.405904</td>\n",
       "      <td>0.016570</td>\n",
       "      <td>-0.013290</td>\n",
       "      <td>-0.014121</td>\n",
       "      <td>1.358902</td>\n",
       "      <td>-2.073671</td>\n",
       "      <td>-1.530579</td>\n",
       "      <td>0.063603</td>\n",
       "      <td>-2.510594</td>\n",
       "      <td>0.616130</td>\n",
       "      <td>3</td>\n",
       "      <td>-0.010425</td>\n",
       "      <td>16.235647</td>\n",
       "    </tr>\n",
       "  </tbody>\n",
       "</table>\n",
       "<p>4981 rows × 18 columns</p>\n",
       "</div>"
      ],
      "text/plain": [
       "      Tomorrow_Direction     Open     High      Low    Close    Volume  \\\n",
       "0                     -1  1.15150  1.16250  1.14940  1.15330  0.035916   \n",
       "1                      1  1.15340  1.15460  1.14140  1.14180  0.034575   \n",
       "2                      1  1.14190  1.14700  1.13990  1.14250  0.032557   \n",
       "3                      1  1.14300  1.15370  1.14000  1.15240  0.031051   \n",
       "4                     -1  1.15230  1.16130  1.15070  1.15670  0.030989   \n",
       "...                  ...      ...      ...      ...      ...       ...   \n",
       "4995                   1  0.99781  1.00181  0.99556  0.99966  0.290767   \n",
       "4996                   1  0.99975  1.00367  0.99444  1.00129  0.330742   \n",
       "4997                  -1  1.00043  1.00291  0.99659  1.00240  0.254601   \n",
       "4998                  -1  1.00197  1.00506  0.99549  0.99711  0.324549   \n",
       "4999                   1  0.99697  0.99753  0.98127  0.98372  0.405904   \n",
       "\n",
       "         Range       ROC  Weekly_ROC  Standardized_Range_20  \\\n",
       "0     0.011397  0.001563   -0.012924              -0.182663   \n",
       "1     0.011565 -0.010057   -0.026017              -0.048185   \n",
       "2     0.006229  0.000525   -0.013300              -1.350905   \n",
       "3     0.012018  0.008224   -0.002251               0.170307   \n",
       "4     0.009212  0.003818    0.004516              -0.596454   \n",
       "...        ...       ...         ...                    ...   \n",
       "4995  0.006278  0.001854   -0.000170              -1.235903   \n",
       "4996  0.009282  0.001540   -0.008791              -0.505310   \n",
       "4997  0.006342  0.001969   -0.009555              -1.180031   \n",
       "4998  0.009613 -0.004850    0.000371              -0.294366   \n",
       "4999  0.016570 -0.013290   -0.014121               1.358902   \n",
       "\n",
       "      Standardized_ROC_20  Standardized_Weekly_ROC_20  Stochastic_20  \\\n",
       "0                0.262551                   -0.759365       0.123077   \n",
       "1               -1.102030                   -1.730104       0.007722   \n",
       "2                0.230855                   -0.570485       0.048780   \n",
       "3                1.221419                    0.366398       0.234522   \n",
       "4                0.590436                    0.885835       0.315197   \n",
       "...                   ...                         ...            ...   \n",
       "4995             0.385388                    0.262369       0.397125   \n",
       "4996             0.280573                   -0.559334       0.445942   \n",
       "4997             0.278174                   -0.730872       0.479185   \n",
       "4998            -0.926199                    0.150651       0.320755   \n",
       "4999            -2.073671                   -1.530579       0.063603   \n",
       "\n",
       "      Standardized_Close_20  Standardized_Volume_20  Day_of_Week  MACD_20_50  \\\n",
       "0                 -1.698919                0.198607            3    0.016158   \n",
       "1                 -2.317003               -0.523230            4    0.014169   \n",
       "2                 -1.912566               -1.550458            5    0.012426   \n",
       "3                 -1.048361               -2.063830            1    0.011419   \n",
       "4                 -0.660248               -1.805785            2    0.010742   \n",
       "...                     ...                     ...          ...         ...   \n",
       "4995               0.158557               -1.697365            4   -0.010682   \n",
       "4996               0.525663               -0.988528            5   -0.010319   \n",
       "4997               0.678504               -2.290141            1   -0.009903   \n",
       "4998              -0.427044               -0.862711            2   -0.009800   \n",
       "4999              -2.510594                0.616130            3   -0.010425   \n",
       "\n",
       "         ADX_20  \n",
       "0     24.401101  \n",
       "1     24.948900  \n",
       "2     25.802551  \n",
       "3     25.031274  \n",
       "4     22.799284  \n",
       "...         ...  \n",
       "4995  18.569969  \n",
       "4996  17.601942  \n",
       "4997  16.726108  \n",
       "4998  16.589147  \n",
       "4999  16.235647  \n",
       "\n",
       "[4981 rows x 18 columns]"
      ]
     },
     "execution_count": 14,
     "metadata": {},
     "output_type": "execute_result"
    }
   ],
   "source": [
    "# Dropping Date column as it is not useful for further analisys\n",
    "eur_usd_df.drop('Date', inplace=True, axis=1)\n",
    "eur_usd_df"
   ]
  },
  {
   "cell_type": "code",
   "execution_count": 15,
   "id": "570f861b",
   "metadata": {},
   "outputs": [
    {
     "data": {
      "image/png": "[encoded data removed]",
      "text/plain": [
       "<Figure size 1440x720 with 2 Axes>"
      ]
     },
     "metadata": {
      "needs_background": "light"
     },
     "output_type": "display_data"
    }
   ],
   "source": [
    "# Plotting correlations on a heatmap\n",
    "plt.figure(figsize=(20,10))\n",
    "cor = eur_usd_df.corr()\n",
    "sns.heatmap(cor, cmap=\"YlGnBu\", annot=True)\n",
    "plt.show()"
   ]
  },
  {
   "cell_type": "markdown",
   "id": "267c97a6",
   "metadata": {},
   "source": [
    "#### Inference:\n",
    "As shown in the heatmap, following columns have high correlation - Open, High, Low, Close, ROC, Weekly_ROC, Stochastic_20, to simplify the model we will perform a drop of the highly correlated features, paying attention to keep at least one of the clique of features (i.e. The features 'Open', 'High', 'Low', 'Close' show high correlation between each other but not with other features, hence we will mantain 'Close' to avoid losing information from that group of features entirely)."
   ]
  },
  {
   "cell_type": "code",
   "execution_count": 16,
   "id": "5c54d6a0",
   "metadata": {},
   "outputs": [
    {
     "data": {
      "text/html": [
       "<div>\n",
       "<style scoped>\n",
       "    .dataframe tbody tr th:only-of-type {\n",
       "        vertical-align: middle;\n",
       "    }\n",
       "\n",
       "    .dataframe tbody tr th {\n",
       "        vertical-align: top;\n",
       "    }\n",
       "\n",
       "    .dataframe thead th {\n",
       "        text-align: right;\n",
       "    }\n",
       "</style>\n",
       "<table border=\"1\" class=\"dataframe\">\n",
       "  <thead>\n",
       "    <tr style=\"text-align: right;\">\n",
       "      <th></th>\n",
       "      <th>Tomorrow_Direction</th>\n",
       "      <th>Close</th>\n",
       "      <th>Volume</th>\n",
       "      <th>Range</th>\n",
       "      <th>Standardized_Range_20</th>\n",
       "      <th>Standardized_ROC_20</th>\n",
       "      <th>Standardized_Weekly_ROC_20</th>\n",
       "      <th>Standardized_Close_20</th>\n",
       "      <th>Standardized_Volume_20</th>\n",
       "      <th>Day_of_Week</th>\n",
       "      <th>MACD_20_50</th>\n",
       "      <th>ADX_20</th>\n",
       "    </tr>\n",
       "  </thead>\n",
       "  <tbody>\n",
       "    <tr>\n",
       "      <th>0</th>\n",
       "      <td>-1</td>\n",
       "      <td>1.15330</td>\n",
       "      <td>0.035916</td>\n",
       "      <td>0.011397</td>\n",
       "      <td>-0.182663</td>\n",
       "      <td>0.262551</td>\n",
       "      <td>-0.759365</td>\n",
       "      <td>-1.698919</td>\n",
       "      <td>0.198607</td>\n",
       "      <td>3</td>\n",
       "      <td>0.016158</td>\n",
       "      <td>24.401101</td>\n",
       "    </tr>\n",
       "    <tr>\n",
       "      <th>1</th>\n",
       "      <td>1</td>\n",
       "      <td>1.14180</td>\n",
       "      <td>0.034575</td>\n",
       "      <td>0.011565</td>\n",
       "      <td>-0.048185</td>\n",
       "      <td>-1.102030</td>\n",
       "      <td>-1.730104</td>\n",
       "      <td>-2.317003</td>\n",
       "      <td>-0.523230</td>\n",
       "      <td>4</td>\n",
       "      <td>0.014169</td>\n",
       "      <td>24.948900</td>\n",
       "    </tr>\n",
       "    <tr>\n",
       "      <th>2</th>\n",
       "      <td>1</td>\n",
       "      <td>1.14250</td>\n",
       "      <td>0.032557</td>\n",
       "      <td>0.006229</td>\n",
       "      <td>-1.350905</td>\n",
       "      <td>0.230855</td>\n",
       "      <td>-0.570485</td>\n",
       "      <td>-1.912566</td>\n",
       "      <td>-1.550458</td>\n",
       "      <td>5</td>\n",
       "      <td>0.012426</td>\n",
       "      <td>25.802551</td>\n",
       "    </tr>\n",
       "    <tr>\n",
       "      <th>3</th>\n",
       "      <td>1</td>\n",
       "      <td>1.15240</td>\n",
       "      <td>0.031051</td>\n",
       "      <td>0.012018</td>\n",
       "      <td>0.170307</td>\n",
       "      <td>1.221419</td>\n",
       "      <td>0.366398</td>\n",
       "      <td>-1.048361</td>\n",
       "      <td>-2.063830</td>\n",
       "      <td>1</td>\n",
       "      <td>0.011419</td>\n",
       "      <td>25.031274</td>\n",
       "    </tr>\n",
       "    <tr>\n",
       "      <th>4</th>\n",
       "      <td>-1</td>\n",
       "      <td>1.15670</td>\n",
       "      <td>0.030989</td>\n",
       "      <td>0.009212</td>\n",
       "      <td>-0.596454</td>\n",
       "      <td>0.590436</td>\n",
       "      <td>0.885835</td>\n",
       "      <td>-0.660248</td>\n",
       "      <td>-1.805785</td>\n",
       "      <td>2</td>\n",
       "      <td>0.010742</td>\n",
       "      <td>22.799284</td>\n",
       "    </tr>\n",
       "    <tr>\n",
       "      <th>...</th>\n",
       "      <td>...</td>\n",
       "      <td>...</td>\n",
       "      <td>...</td>\n",
       "      <td>...</td>\n",
       "      <td>...</td>\n",
       "      <td>...</td>\n",
       "      <td>...</td>\n",
       "      <td>...</td>\n",
       "      <td>...</td>\n",
       "      <td>...</td>\n",
       "      <td>...</td>\n",
       "      <td>...</td>\n",
       "    </tr>\n",
       "    <tr>\n",
       "      <th>4995</th>\n",
       "      <td>1</td>\n",
       "      <td>0.99966</td>\n",
       "      <td>0.290767</td>\n",
       "      <td>0.006278</td>\n",
       "      <td>-1.235903</td>\n",
       "      <td>0.385388</td>\n",
       "      <td>0.262369</td>\n",
       "      <td>0.158557</td>\n",
       "      <td>-1.697365</td>\n",
       "      <td>4</td>\n",
       "      <td>-0.010682</td>\n",
       "      <td>18.569969</td>\n",
       "    </tr>\n",
       "    <tr>\n",
       "      <th>4996</th>\n",
       "      <td>1</td>\n",
       "      <td>1.00129</td>\n",
       "      <td>0.330742</td>\n",
       "      <td>0.009282</td>\n",
       "      <td>-0.505310</td>\n",
       "      <td>0.280573</td>\n",
       "      <td>-0.559334</td>\n",
       "      <td>0.525663</td>\n",
       "      <td>-0.988528</td>\n",
       "      <td>5</td>\n",
       "      <td>-0.010319</td>\n",
       "      <td>17.601942</td>\n",
       "    </tr>\n",
       "    <tr>\n",
       "      <th>4997</th>\n",
       "      <td>-1</td>\n",
       "      <td>1.00240</td>\n",
       "      <td>0.254601</td>\n",
       "      <td>0.006342</td>\n",
       "      <td>-1.180031</td>\n",
       "      <td>0.278174</td>\n",
       "      <td>-0.730872</td>\n",
       "      <td>0.678504</td>\n",
       "      <td>-2.290141</td>\n",
       "      <td>1</td>\n",
       "      <td>-0.009903</td>\n",
       "      <td>16.726108</td>\n",
       "    </tr>\n",
       "    <tr>\n",
       "      <th>4998</th>\n",
       "      <td>-1</td>\n",
       "      <td>0.99711</td>\n",
       "      <td>0.324549</td>\n",
       "      <td>0.009613</td>\n",
       "      <td>-0.294366</td>\n",
       "      <td>-0.926199</td>\n",
       "      <td>0.150651</td>\n",
       "      <td>-0.427044</td>\n",
       "      <td>-0.862711</td>\n",
       "      <td>2</td>\n",
       "      <td>-0.009800</td>\n",
       "      <td>16.589147</td>\n",
       "    </tr>\n",
       "    <tr>\n",
       "      <th>4999</th>\n",
       "      <td>1</td>\n",
       "      <td>0.98372</td>\n",
       "      <td>0.405904</td>\n",
       "      <td>0.016570</td>\n",
       "      <td>1.358902</td>\n",
       "      <td>-2.073671</td>\n",
       "      <td>-1.530579</td>\n",
       "      <td>-2.510594</td>\n",
       "      <td>0.616130</td>\n",
       "      <td>3</td>\n",
       "      <td>-0.010425</td>\n",
       "      <td>16.235647</td>\n",
       "    </tr>\n",
       "  </tbody>\n",
       "</table>\n",
       "<p>4981 rows × 12 columns</p>\n",
       "</div>"
      ],
      "text/plain": [
       "      Tomorrow_Direction    Close    Volume     Range  Standardized_Range_20  \\\n",
       "0                     -1  1.15330  0.035916  0.011397              -0.182663   \n",
       "1                      1  1.14180  0.034575  0.011565              -0.048185   \n",
       "2                      1  1.14250  0.032557  0.006229              -1.350905   \n",
       "3                      1  1.15240  0.031051  0.012018               0.170307   \n",
       "4                     -1  1.15670  0.030989  0.009212              -0.596454   \n",
       "...                  ...      ...       ...       ...                    ...   \n",
       "4995                   1  0.99966  0.290767  0.006278              -1.235903   \n",
       "4996                   1  1.00129  0.330742  0.009282              -0.505310   \n",
       "4997                  -1  1.00240  0.254601  0.006342              -1.180031   \n",
       "4998                  -1  0.99711  0.324549  0.009613              -0.294366   \n",
       "4999                   1  0.98372  0.405904  0.016570               1.358902   \n",
       "\n",
       "      Standardized_ROC_20  Standardized_Weekly_ROC_20  Standardized_Close_20  \\\n",
       "0                0.262551                   -0.759365              -1.698919   \n",
       "1               -1.102030                   -1.730104              -2.317003   \n",
       "2                0.230855                   -0.570485              -1.912566   \n",
       "3                1.221419                    0.366398              -1.048361   \n",
       "4                0.590436                    0.885835              -0.660248   \n",
       "...                   ...                         ...                    ...   \n",
       "4995             0.385388                    0.262369               0.158557   \n",
       "4996             0.280573                   -0.559334               0.525663   \n",
       "4997             0.278174                   -0.730872               0.678504   \n",
       "4998            -0.926199                    0.150651              -0.427044   \n",
       "4999            -2.073671                   -1.530579              -2.510594   \n",
       "\n",
       "      Standardized_Volume_20  Day_of_Week  MACD_20_50     ADX_20  \n",
       "0                   0.198607            3    0.016158  24.401101  \n",
       "1                  -0.523230            4    0.014169  24.948900  \n",
       "2                  -1.550458            5    0.012426  25.802551  \n",
       "3                  -2.063830            1    0.011419  25.031274  \n",
       "4                  -1.805785            2    0.010742  22.799284  \n",
       "...                      ...          ...         ...        ...  \n",
       "4995               -1.697365            4   -0.010682  18.569969  \n",
       "4996               -0.988528            5   -0.010319  17.601942  \n",
       "4997               -2.290141            1   -0.009903  16.726108  \n",
       "4998               -0.862711            2   -0.009800  16.589147  \n",
       "4999                0.616130            3   -0.010425  16.235647  \n",
       "\n",
       "[4981 rows x 12 columns]"
      ]
     },
     "execution_count": 16,
     "metadata": {},
     "output_type": "execute_result"
    }
   ],
   "source": [
    "# Dropping highly correlated features\n",
    "eur_usd_df.drop(['Open', 'High', 'Low', 'ROC', 'Weekly_ROC', 'Stochastic_20'], inplace=True, axis=1)\n",
    "eur_usd_df"
   ]
  },
  {
   "cell_type": "markdown",
   "id": "33115c47",
   "metadata": {},
   "source": [
    "### Step 2: Data Preparation"
   ]
  },
  {
   "cell_type": "code",
   "execution_count": 17,
   "id": "575d5166",
   "metadata": {},
   "outputs": [
    {
     "data": {
      "text/html": [
       "<div>\n",
       "<style scoped>\n",
       "    .dataframe tbody tr th:only-of-type {\n",
       "        vertical-align: middle;\n",
       "    }\n",
       "\n",
       "    .dataframe tbody tr th {\n",
       "        vertical-align: top;\n",
       "    }\n",
       "\n",
       "    .dataframe thead th {\n",
       "        text-align: right;\n",
       "    }\n",
       "</style>\n",
       "<table border=\"1\" class=\"dataframe\">\n",
       "  <thead>\n",
       "    <tr style=\"text-align: right;\">\n",
       "      <th></th>\n",
       "      <th>Close</th>\n",
       "      <th>Volume</th>\n",
       "      <th>Range</th>\n",
       "      <th>Standardized_Range_20</th>\n",
       "      <th>Standardized_ROC_20</th>\n",
       "      <th>Standardized_Weekly_ROC_20</th>\n",
       "      <th>Standardized_Close_20</th>\n",
       "      <th>Standardized_Volume_20</th>\n",
       "      <th>Day_of_Week</th>\n",
       "      <th>MACD_20_50</th>\n",
       "      <th>ADX_20</th>\n",
       "    </tr>\n",
       "  </thead>\n",
       "  <tbody>\n",
       "    <tr>\n",
       "      <th>0</th>\n",
       "      <td>1.1533</td>\n",
       "      <td>0.035916</td>\n",
       "      <td>0.011397</td>\n",
       "      <td>-0.182663</td>\n",
       "      <td>0.262551</td>\n",
       "      <td>-0.759365</td>\n",
       "      <td>-1.698919</td>\n",
       "      <td>0.198607</td>\n",
       "      <td>3</td>\n",
       "      <td>0.016158</td>\n",
       "      <td>24.401101</td>\n",
       "    </tr>\n",
       "    <tr>\n",
       "      <th>1</th>\n",
       "      <td>1.1418</td>\n",
       "      <td>0.034575</td>\n",
       "      <td>0.011565</td>\n",
       "      <td>-0.048185</td>\n",
       "      <td>-1.102030</td>\n",
       "      <td>-1.730104</td>\n",
       "      <td>-2.317003</td>\n",
       "      <td>-0.523230</td>\n",
       "      <td>4</td>\n",
       "      <td>0.014169</td>\n",
       "      <td>24.948900</td>\n",
       "    </tr>\n",
       "    <tr>\n",
       "      <th>2</th>\n",
       "      <td>1.1425</td>\n",
       "      <td>0.032557</td>\n",
       "      <td>0.006229</td>\n",
       "      <td>-1.350905</td>\n",
       "      <td>0.230855</td>\n",
       "      <td>-0.570485</td>\n",
       "      <td>-1.912566</td>\n",
       "      <td>-1.550458</td>\n",
       "      <td>5</td>\n",
       "      <td>0.012426</td>\n",
       "      <td>25.802551</td>\n",
       "    </tr>\n",
       "    <tr>\n",
       "      <th>3</th>\n",
       "      <td>1.1524</td>\n",
       "      <td>0.031051</td>\n",
       "      <td>0.012018</td>\n",
       "      <td>0.170307</td>\n",
       "      <td>1.221419</td>\n",
       "      <td>0.366398</td>\n",
       "      <td>-1.048361</td>\n",
       "      <td>-2.063830</td>\n",
       "      <td>1</td>\n",
       "      <td>0.011419</td>\n",
       "      <td>25.031274</td>\n",
       "    </tr>\n",
       "    <tr>\n",
       "      <th>4</th>\n",
       "      <td>1.1567</td>\n",
       "      <td>0.030989</td>\n",
       "      <td>0.009212</td>\n",
       "      <td>-0.596454</td>\n",
       "      <td>0.590436</td>\n",
       "      <td>0.885835</td>\n",
       "      <td>-0.660248</td>\n",
       "      <td>-1.805785</td>\n",
       "      <td>2</td>\n",
       "      <td>0.010742</td>\n",
       "      <td>22.799284</td>\n",
       "    </tr>\n",
       "  </tbody>\n",
       "</table>\n",
       "</div>"
      ],
      "text/plain": [
       "    Close    Volume     Range  Standardized_Range_20  Standardized_ROC_20  \\\n",
       "0  1.1533  0.035916  0.011397              -0.182663             0.262551   \n",
       "1  1.1418  0.034575  0.011565              -0.048185            -1.102030   \n",
       "2  1.1425  0.032557  0.006229              -1.350905             0.230855   \n",
       "3  1.1524  0.031051  0.012018               0.170307             1.221419   \n",
       "4  1.1567  0.030989  0.009212              -0.596454             0.590436   \n",
       "\n",
       "   Standardized_Weekly_ROC_20  Standardized_Close_20  Standardized_Volume_20  \\\n",
       "0                   -0.759365              -1.698919                0.198607   \n",
       "1                   -1.730104              -2.317003               -0.523230   \n",
       "2                   -0.570485              -1.912566               -1.550458   \n",
       "3                    0.366398              -1.048361               -2.063830   \n",
       "4                    0.885835              -0.660248               -1.805785   \n",
       "\n",
       "   Day_of_Week  MACD_20_50     ADX_20  \n",
       "0            3    0.016158  24.401101  \n",
       "1            4    0.014169  24.948900  \n",
       "2            5    0.012426  25.802551  \n",
       "3            1    0.011419  25.031274  \n",
       "4            2    0.010742  22.799284  "
      ]
     },
     "execution_count": 17,
     "metadata": {},
     "output_type": "execute_result"
    }
   ],
   "source": [
    "# Putting feature variables to X\n",
    "X = eur_usd_df.drop('Tomorrow_Direction', axis=1)\n",
    "X.head()"
   ]
  },
  {
   "cell_type": "code",
   "execution_count": 18,
   "id": "23f981cc",
   "metadata": {},
   "outputs": [
    {
     "data": {
      "text/plain": [
       "0   -1\n",
       "1    1\n",
       "2    1\n",
       "3    1\n",
       "4   -1\n",
       "Name: Tomorrow_Direction, dtype: int64"
      ]
     },
     "execution_count": 18,
     "metadata": {},
     "output_type": "execute_result"
    }
   ],
   "source": [
    "# Putting response variable to y\n",
    "y = eur_usd_df['Tomorrow_Direction']\n",
    "y.head()"
   ]
  },
  {
   "cell_type": "code",
   "execution_count": 19,
   "id": "35e34473",
   "metadata": {},
   "outputs": [],
   "source": [
    "# Splitting the data into train and test dataset\n",
    "X_train, X_test, y_train, y_test = train_test_split(X, y, test_size=0.3, random_state=10)"
   ]
  },
  {
   "cell_type": "markdown",
   "id": "f933f76b",
   "metadata": {},
   "source": [
    "### Step 3: Model Building - Logistic Regression"
   ]
  },
  {
   "cell_type": "code",
   "execution_count": 20,
   "id": "c624826b",
   "metadata": {},
   "outputs": [],
   "source": [
    "# Logistic regression model\n",
    "logmodel = LogisticRegression(random_state = 42)"
   ]
  },
  {
   "cell_type": "code",
   "execution_count": 21,
   "id": "f68a87d3",
   "metadata": {},
   "outputs": [
    {
     "data": {
      "text/plain": [
       "LogisticRegression(random_state=42)"
      ]
     },
     "execution_count": 21,
     "metadata": {},
     "output_type": "execute_result"
    }
   ],
   "source": [
    "# Fitting the logistic regression model on training dataset\n",
    "logmodel.fit(X_train, y_train)"
   ]
  },
  {
   "cell_type": "code",
   "execution_count": 22,
   "id": "3b5b13f5",
   "metadata": {},
   "outputs": [
    {
     "data": {
      "text/plain": [
       "array([ 1, -1, -1, ..., -1,  1, -1], dtype=int64)"
      ]
     },
     "execution_count": 22,
     "metadata": {},
     "output_type": "execute_result"
    }
   ],
   "source": [
    "# Predicting the test set results\n",
    "y_pred = logmodel.predict(X_test)\n",
    "y_pred"
   ]
  },
  {
   "cell_type": "code",
   "execution_count": 23,
   "id": "d1fefe89",
   "metadata": {},
   "outputs": [
    {
     "name": "stdout",
     "output_type": "stream",
     "text": [
      "Accuracy of logistic regression classifier on test set: 0.516\n"
     ]
    }
   ],
   "source": [
    "# Calculating the accuracy of logistic regression model\n",
    "print('Accuracy of logistic regression classifier on test set: {:.3f}'.format(logmodel.score(X_test, y_test)))"
   ]
  },
  {
   "cell_type": "code",
   "execution_count": 24,
   "id": "748a77ae",
   "metadata": {},
   "outputs": [
    {
     "name": "stdout",
     "output_type": "stream",
     "text": [
      "[[293 443]\n",
      " [280 479]]\n"
     ]
    }
   ],
   "source": [
    "# Computing Confusion Matrix\n",
    "confusion_matrix = metrics.confusion_matrix(y_test, y_pred)\n",
    "print(confusion_matrix)"
   ]
  },
  {
   "cell_type": "markdown",
   "id": "5cf1910a",
   "metadata": {},
   "source": [
    "#### Inference:\n",
    "The result is telling us that we have 293+479 correct predictions and 443+280 incorrect predictions."
   ]
  },
  {
   "cell_type": "code",
   "execution_count": 25,
   "id": "7272c36b",
   "metadata": {},
   "outputs": [
    {
     "name": "stdout",
     "output_type": "stream",
     "text": [
      "              precision    recall  f1-score   support\n",
      "\n",
      "          -1       0.51      0.40      0.45       736\n",
      "           1       0.52      0.63      0.57       759\n",
      "\n",
      "    accuracy                           0.52      1495\n",
      "   macro avg       0.52      0.51      0.51      1495\n",
      "weighted avg       0.52      0.52      0.51      1495\n",
      "\n"
     ]
    }
   ],
   "source": [
    "# Computing precision, recall, F-measure and support\n",
    "print(metrics.classification_report(y_test, y_pred))"
   ]
  },
  {
   "cell_type": "markdown",
   "id": "22ce265c",
   "metadata": {},
   "source": [
    "#### Inference:\n",
    "1. The precision is the ratio tp / (tp + fp) where tp is the number of true positives and fp the number of false positives. The precision is intuitively the ability of the classifier to not label a sample as positive if it is negative.\n",
    "2. The recall is the ratio tp / (tp + fn) where tp is the number of true positives and fn the number of false negatives. The recall is intuitively the ability of the classifier to find all the positive samples.\n",
    "3. The F-beta score can be interpreted as a weighted harmonic mean of the precision and recall, where an F-beta score reaches its best value at 1 and worst score at 0.\n",
    "4. The F-beta score weights the recall more than the precision by a factor of beta. beta = 1.0 means recall and precision are equally important.\n",
    "5. Of the entire test set, 51.6% of the Tomorrow's Direction were correctly predicted."
   ]
  },
  {
   "cell_type": "code",
   "execution_count": 26,
   "id": "0ebee503",
   "metadata": {},
   "outputs": [
    {
     "data": {
      "image/png": "[encoded data removed]",
      "text/plain": [
       "<Figure size 432x288 with 1 Axes>"
      ]
     },
     "metadata": {
      "needs_background": "light"
     },
     "output_type": "display_data"
    }
   ],
   "source": [
    "# Plotting a ROC Curve\n",
    "logit_roc_auc = metrics.roc_auc_score(y_test, y_pred)\n",
    "fpr, tpr, thresholds = metrics.roc_curve(y_test, logmodel.predict_proba(X_test)[:,1])\n",
    "plt.figure()\n",
    "plt.plot(fpr, tpr, label='Logistic Regression (area = %0.2f)' % logit_roc_auc)\n",
    "plt.plot([0, 1], [0, 1],'r--')\n",
    "plt.xlim([0.0, 1.0])\n",
    "plt.ylim([0.0, 1.05])\n",
    "plt.xlabel('False Positive Rate')\n",
    "plt.ylabel('True Positive Rate')\n",
    "plt.title('Receiver operating characteristic')\n",
    "plt.legend(loc=\"lower right\")\n",
    "plt.savefig('Log_ROC')\n",
    "plt.show()"
   ]
  },
  {
   "cell_type": "markdown",
   "id": "f36e17cc",
   "metadata": {},
   "source": [
    "#### Inference:\n",
    "1. ROC curve is another commonly used tool for binary classifiers. The dotted line represents the ROC curve of a purely random classifier; a good classifier stays as far away from that line as possible (toward the top-left corner)."
   ]
  },
  {
   "cell_type": "markdown",
   "id": "6920ce1d",
   "metadata": {},
   "source": [
    "### Step 4: Model Building - Decision Tree"
   ]
  },
  {
   "cell_type": "code",
   "execution_count": 27,
   "id": "a61e0969",
   "metadata": {},
   "outputs": [],
   "source": [
    "# Decision Tree Classifier model\n",
    "DT_clf = DecisionTreeClassifier(random_state = 42)"
   ]
  },
  {
   "cell_type": "code",
   "execution_count": 28,
   "id": "1ef159cb",
   "metadata": {},
   "outputs": [
    {
     "data": {
      "text/plain": [
       "DecisionTreeClassifier(random_state=42)"
      ]
     },
     "execution_count": 28,
     "metadata": {},
     "output_type": "execute_result"
    }
   ],
   "source": [
    "# Fitting the Decision Tree Classifier model on training dataset\n",
    "DT_clf.fit(X_train,y_train)"
   ]
  },
  {
   "cell_type": "code",
   "execution_count": 29,
   "id": "66732285",
   "metadata": {},
   "outputs": [
    {
     "data": {
      "text/plain": [
       "array([ 1,  1, -1, ..., -1,  1, -1], dtype=int64)"
      ]
     },
     "execution_count": 29,
     "metadata": {},
     "output_type": "execute_result"
    }
   ],
   "source": [
    "# Predicting the test set results\n",
    "DTC_predictions = DT_clf.predict(X_test)\n",
    "DTC_predictions"
   ]
  },
  {
   "cell_type": "code",
   "execution_count": 30,
   "id": "f0be59ac",
   "metadata": {},
   "outputs": [
    {
     "name": "stdout",
     "output_type": "stream",
     "text": [
      "Accuracy of Decision Tree Classifier model on test set: 0.516\n"
     ]
    }
   ],
   "source": [
    "# Calculating the accuracy of Decision Tree Classifier model\n",
    "print('Accuracy of Decision Tree Classifier model on test set: {:.3f}'.format(DT_clf.score(X_test, y_test)))"
   ]
  },
  {
   "cell_type": "code",
   "execution_count": 31,
   "id": "82cd0029",
   "metadata": {},
   "outputs": [
    {
     "name": "stdout",
     "output_type": "stream",
     "text": [
      "[[355 381]\n",
      " [342 417]]\n"
     ]
    }
   ],
   "source": [
    "# Computing Confusion Matrix\n",
    "confusion_matrix = metrics.confusion_matrix(y_test, DTC_predictions)\n",
    "print(confusion_matrix)"
   ]
  },
  {
   "cell_type": "markdown",
   "id": "bea8ee20",
   "metadata": {},
   "source": [
    "#### Inference:\n",
    "The result is telling us that we have 355 + 417 correct predictions and 381 + 342 incorrect predictions."
   ]
  },
  {
   "cell_type": "code",
   "execution_count": 32,
   "id": "bd3dce6f",
   "metadata": {},
   "outputs": [
    {
     "name": "stdout",
     "output_type": "stream",
     "text": [
      "              precision    recall  f1-score   support\n",
      "\n",
      "          -1       0.51      0.48      0.50       736\n",
      "           1       0.52      0.55      0.54       759\n",
      "\n",
      "    accuracy                           0.52      1495\n",
      "   macro avg       0.52      0.52      0.52      1495\n",
      "weighted avg       0.52      0.52      0.52      1495\n",
      "\n"
     ]
    }
   ],
   "source": [
    "# Computing precision, recall, F-measure and support\n",
    "print(metrics.classification_report(y_test, DTC_predictions))"
   ]
  },
  {
   "cell_type": "markdown",
   "id": "25a7b31b",
   "metadata": {},
   "source": [
    "#### Inference:\n",
    "1. The precision is the ratio tp / (tp + fp) where tp is the number of true positives and fp the number of false positives. The precision is intuitively the ability of the classifier to not label a sample as positive if it is negative.\n",
    "2. The recall is the ratio tp / (tp + fn) where tp is the number of true positives and fn the number of false negatives. The recall is intuitively the ability of the classifier to find all the positive samples.\n",
    "3. The F-beta score can be interpreted as a weighted harmonic mean of the precision and recall, where an F-beta score reaches its best value at 1 and worst score at 0.\n",
    "4. The F-beta score weights the recall more than the precision by a factor of beta. beta = 1.0 means recall and precision are equally important.\n",
    "5. Of the entire test set, 51.6% of the Tomorrow's Direction were correctly predicted."
   ]
  },
  {
   "cell_type": "code",
   "execution_count": 33,
   "id": "260d2f54",
   "metadata": {},
   "outputs": [
    {
     "data": {
      "image/png": "[encoded data removed]",
      "text/plain": [
       "<Figure size 432x288 with 1 Axes>"
      ]
     },
     "metadata": {
      "needs_background": "light"
     },
     "output_type": "display_data"
    }
   ],
   "source": [
    "# Plotting a ROC Curve\n",
    "DTC_roc_auc = metrics.roc_auc_score(y_test, DTC_predictions)\n",
    "fpr, tpr, thresholds = metrics.roc_curve(y_test, DT_clf.predict_proba(X_test)[:,1])\n",
    "plt.figure()\n",
    "plt.plot(fpr, tpr, label='Decision Tree Classification (area = %0.2f)' % DTC_roc_auc)\n",
    "plt.plot([0, 1], [0, 1],'r--')\n",
    "plt.xlim([0.0, 1.0])\n",
    "plt.ylim([0.0, 1.05])\n",
    "plt.xlabel('False Positive Rate')\n",
    "plt.ylabel('True Positive Rate')\n",
    "plt.title('Receiver operating characteristic')\n",
    "plt.legend(loc=\"lower right\")\n",
    "plt.savefig('Log_ROC')\n",
    "plt.show()"
   ]
  },
  {
   "cell_type": "markdown",
   "id": "a1d5ed05",
   "metadata": {},
   "source": [
    "#### Inference:\n",
    "1. ROC curve is another common tool used with binary classifiers. The dotted line represents the ROC curve of a purely random classifier; a good classifier stays as far away from that line as possible (toward the top-left corner).\n",
    "2. This model performed almost exactly like a random classifier."
   ]
  },
  {
   "cell_type": "markdown",
   "id": "42f12e1c",
   "metadata": {},
   "source": [
    "### Step 5: Model Building - Random Forest"
   ]
  },
  {
   "cell_type": "code",
   "execution_count": 34,
   "id": "be0877e1",
   "metadata": {},
   "outputs": [],
   "source": [
    "# Random Forest Classifier model\n",
    "RF_clf = RandomForestClassifier(n_estimators=10, random_state = 42)"
   ]
  },
  {
   "cell_type": "code",
   "execution_count": 35,
   "id": "87ddf963",
   "metadata": {},
   "outputs": [
    {
     "data": {
      "text/plain": [
       "RandomForestClassifier(n_estimators=10, random_state=42)"
      ]
     },
     "execution_count": 35,
     "metadata": {},
     "output_type": "execute_result"
    }
   ],
   "source": [
    "# Fitting the Random Forest Classifier model on training dataset\n",
    "RF_clf.fit(X_train,y_train)"
   ]
  },
  {
   "cell_type": "code",
   "execution_count": 36,
   "id": "382d410c",
   "metadata": {},
   "outputs": [
    {
     "data": {
      "text/plain": [
       "array([ 1, -1, -1, ..., -1,  1, -1], dtype=int64)"
      ]
     },
     "execution_count": 36,
     "metadata": {},
     "output_type": "execute_result"
    }
   ],
   "source": [
    "# Predicting the test set results\n",
    "RFC_pred = RF_clf.predict(X_test)\n",
    "RFC_pred"
   ]
  },
  {
   "cell_type": "code",
   "execution_count": 37,
   "id": "21507769",
   "metadata": {},
   "outputs": [
    {
     "name": "stdout",
     "output_type": "stream",
     "text": [
      "Accuracy of Random Forest Classifier model on test set: 0.530\n"
     ]
    }
   ],
   "source": [
    "# Calculating the accuracy of Random Forest Classifier model\n",
    "print('Accuracy of Random Forest Classifier model on test set: {:.3f}'.format(RF_clf.score(X_test, y_test)))"
   ]
  },
  {
   "cell_type": "code",
   "execution_count": 38,
   "id": "d37c5439",
   "metadata": {},
   "outputs": [
    {
     "name": "stdout",
     "output_type": "stream",
     "text": [
      "[[452 284]\n",
      " [419 340]]\n"
     ]
    }
   ],
   "source": [
    "# Computing Confusion Matrix\n",
    "confusion_matrix = metrics.confusion_matrix(y_test, RFC_pred)\n",
    "print(confusion_matrix)"
   ]
  },
  {
   "cell_type": "markdown",
   "id": "88cbf487",
   "metadata": {},
   "source": [
    "#### Inference:\n",
    "The result is telling us that we have 452 + 340 correct predictions and 284 + 419 incorrect predictions."
   ]
  },
  {
   "cell_type": "code",
   "execution_count": 39,
   "id": "6b614d88",
   "metadata": {},
   "outputs": [
    {
     "name": "stdout",
     "output_type": "stream",
     "text": [
      "              precision    recall  f1-score   support\n",
      "\n",
      "          -1       0.52      0.61      0.56       736\n",
      "           1       0.54      0.45      0.49       759\n",
      "\n",
      "    accuracy                           0.53      1495\n",
      "   macro avg       0.53      0.53      0.53      1495\n",
      "weighted avg       0.53      0.53      0.53      1495\n",
      "\n"
     ]
    }
   ],
   "source": [
    "# Computing precision, recall, F-measure and support\n",
    "print(metrics.classification_report(y_test, RFC_pred))"
   ]
  },
  {
   "cell_type": "markdown",
   "id": "4da8c048",
   "metadata": {},
   "source": [
    "#### Inference:\n",
    "1. The precision is the ratio tp / (tp + fp) where tp is the number of true positives and fp the number of false positives. The precision is intuitively the ability of the classifier to not label a sample as positive if it is negative.\n",
    "2. The recall is the ratio tp / (tp + fn) where tp is the number of true positives and fn the number of false negatives. The recall is intuitively the ability of the classifier to find all the positive samples.\n",
    "3. The F-beta score can be interpreted as a weighted harmonic mean of the precision and recall, where an F-beta score reaches its best value at 1 and worst score at 0.\n",
    "4. The F-beta score weights the recall more than the precision by a factor of beta. beta = 1.0 means recall and precision are equally important.\n",
    "5. Of the entire test set, 53% of the Tomorrow's Direction were correctly predicted."
   ]
  },
  {
   "cell_type": "code",
   "execution_count": 40,
   "id": "d26b948f",
   "metadata": {},
   "outputs": [
    {
     "data": {
      "image/png": "[encoded data removed]",
      "text/plain": [
       "<Figure size 432x288 with 1 Axes>"
      ]
     },
     "metadata": {
      "needs_background": "light"
     },
     "output_type": "display_data"
    }
   ],
   "source": [
    "# Plotting a ROC Curve\n",
    "RFC_roc_auc = metrics.roc_auc_score(y_test, RFC_pred)\n",
    "fpr, tpr, thresholds = metrics.roc_curve(y_test, RF_clf.predict_proba(X_test)[:,1])\n",
    "plt.figure()\n",
    "plt.plot(fpr, tpr, label='Random Forest Classifier (area = %0.2f)' % RFC_roc_auc)\n",
    "plt.plot([0, 1], [0, 1],'r--')\n",
    "plt.xlim([0.0, 1.0])\n",
    "plt.ylim([0.0, 1.05])\n",
    "plt.xlabel('False Positive Rate')\n",
    "plt.ylabel('True Positive Rate')\n",
    "plt.title('Receiver operating characteristic')\n",
    "plt.legend(loc=\"lower right\")\n",
    "plt.savefig('Log_ROC')\n",
    "plt.show()"
   ]
  },
  {
   "cell_type": "markdown",
   "id": "d28e58ce",
   "metadata": {},
   "source": [
    "#### Inference:\n",
    "1. ROC curve is another common tool used with binary classifiers. The dotted line represents the ROC curve of a purely random classifier; a good classifier stays as far away from that line as possible (toward the top-left corner)."
   ]
  },
  {
   "cell_type": "markdown",
   "id": "35ef5ca2",
   "metadata": {},
   "source": [
    "### Step 6: Model Building - SGD"
   ]
  },
  {
   "cell_type": "code",
   "execution_count": 41,
   "id": "aac8091c",
   "metadata": {},
   "outputs": [],
   "source": [
    "# SGD Classifier model\n",
    "model = SGDClassifier(loss = 'hinge', max_iter=1000, tol=1e-3, random_state = 42) # tol: the stopping criterion"
   ]
  },
  {
   "cell_type": "code",
   "execution_count": 42,
   "id": "89e66a9e",
   "metadata": {},
   "outputs": [],
   "source": [
    "# Fitting the SGD Classifier model on training dataset\n",
    "clf = model.fit(X_train, y_train)\n",
    "calibrator = CalibratedClassifierCV(clf, cv='prefit')\n",
    "SGD_model = calibrator.fit(X_train, y_train)"
   ]
  },
  {
   "cell_type": "code",
   "execution_count": 43,
   "id": "998e483f",
   "metadata": {},
   "outputs": [
    {
     "data": {
      "text/plain": [
       "array([ 1, -1, -1, ..., -1,  1, -1], dtype=int64)"
      ]
     },
     "execution_count": 43,
     "metadata": {},
     "output_type": "execute_result"
    }
   ],
   "source": [
    "# Predicting the test set results\n",
    "SGD_pred = SGD_model.predict(X_test)\n",
    "SGD_pred"
   ]
  },
  {
   "cell_type": "code",
   "execution_count": 44,
   "id": "2ffd4dfa",
   "metadata": {},
   "outputs": [
    {
     "name": "stdout",
     "output_type": "stream",
     "text": [
      "Accuracy of SGD Classifier model on test set: 0.509\n"
     ]
    }
   ],
   "source": [
    "# Calculating the accuracy of SGD Classifier model\n",
    "print('Accuracy of SGD Classifier model on test set: {:.3f}'.format(SGD_model.score(X_test, y_test)))"
   ]
  },
  {
   "cell_type": "code",
   "execution_count": 45,
   "id": "b65fb623",
   "metadata": {},
   "outputs": [
    {
     "name": "stdout",
     "output_type": "stream",
     "text": [
      "[[307 429]\n",
      " [305 454]]\n"
     ]
    }
   ],
   "source": [
    "# Computing Confusion Matrix\n",
    "confusion_matrix = metrics.confusion_matrix(y_test, SGD_pred)\n",
    "print(confusion_matrix)"
   ]
  },
  {
   "cell_type": "markdown",
   "id": "20ec7d34",
   "metadata": {},
   "source": [
    "#### Inference:\n",
    "The result is telling us that we have 307 + 454 correct predictions and 429 + 305 incorrect predictions."
   ]
  },
  {
   "cell_type": "code",
   "execution_count": 46,
   "id": "baab7cea",
   "metadata": {},
   "outputs": [
    {
     "name": "stdout",
     "output_type": "stream",
     "text": [
      "              precision    recall  f1-score   support\n",
      "\n",
      "          -1       0.50      0.42      0.46       736\n",
      "           1       0.51      0.60      0.55       759\n",
      "\n",
      "    accuracy                           0.51      1495\n",
      "   macro avg       0.51      0.51      0.50      1495\n",
      "weighted avg       0.51      0.51      0.50      1495\n",
      "\n"
     ]
    }
   ],
   "source": [
    "# Computing precision, recall, F-measure and support\n",
    "print(metrics.classification_report(y_test, SGD_pred))"
   ]
  },
  {
   "cell_type": "markdown",
   "id": "85ad24a4",
   "metadata": {},
   "source": [
    "#### Inference:\n",
    "1. The precision is the ratio tp / (tp + fp) where tp is the number of true positives and fp the number of false positives. The precision is intuitively the ability of the classifier to not label a sample as positive if it is negative.\n",
    "2. The recall is the ratio tp / (tp + fn) where tp is the number of true positives and fn the number of false negatives. The recall is intuitively the ability of the classifier to find all the positive samples.\n",
    "3. The F-beta score can be interpreted as a weighted harmonic mean of the precision and recall, where an F-beta score reaches its best value at 1 and worst score at 0.\n",
    "4. The F-beta score weights the recall more than the precision by a factor of beta. beta = 1.0 means recall and precision are equally important.\n",
    "5. Of the entire test set, 50.9% of the Tomorrow's Direction were correctly predicted."
   ]
  },
  {
   "cell_type": "code",
   "execution_count": 47,
   "id": "21426589",
   "metadata": {},
   "outputs": [
    {
     "data": {
      "image/png": "[encoded data removed]",
      "text/plain": [
       "<Figure size 432x288 with 1 Axes>"
      ]
     },
     "metadata": {
      "needs_background": "light"
     },
     "output_type": "display_data"
    }
   ],
   "source": [
    "# Plotting a ROC Curve\n",
    "SGD_roc_auc = metrics.roc_auc_score(y_test, SGD_pred)\n",
    "fpr, tpr, thresholds = metrics.roc_curve(y_test, SGD_model.predict_proba(X_test)[:,1])\n",
    "plt.figure()\n",
    "plt.plot(fpr, tpr, label='SGD Classifier (area = %0.2f)' % SGD_roc_auc)\n",
    "plt.plot([0, 1], [0, 1],'r--')\n",
    "plt.xlim([0.0, 1.0])\n",
    "plt.ylim([0.0, 1.05])\n",
    "plt.xlabel('False Positive Rate')\n",
    "plt.ylabel('True Positive Rate')\n",
    "plt.title('Receiver operating characteristic')\n",
    "plt.legend(loc=\"lower right\")\n",
    "plt.savefig('Log_ROC')\n",
    "plt.show()"
   ]
  },
  {
   "cell_type": "markdown",
   "id": "9ec502da",
   "metadata": {},
   "source": [
    "#### Inference:\n",
    "1. ROC curve is another common tool used with binary classifiers. The dotted line represents the ROC curve of a purely random classifier; a good classifier stays as far away from that line as possible (toward the top-left corner).\n",
    "2. This model performed almost exactly like a random classifier."
   ]
  },
  {
   "cell_type": "markdown",
   "id": "5d8590e8",
   "metadata": {},
   "source": [
    "### Step 7: Model Building - SVM"
   ]
  },
  {
   "cell_type": "code",
   "execution_count": 48,
   "id": "652804c9",
   "metadata": {},
   "outputs": [],
   "source": [
    "# SVM Classifier model\n",
    "SVM_model = SVC(probability=True, C= 1, gamma= 0.01, kernel= 'rbf', random_state = 42) # C: regularization parameter\n",
    "                                                               # Gamma: kernel coeff.,the ‘spread’ of the kernel/decision region. When gamma is low, the ‘curve’ of the decision boundary is very low and thus the decision region is very broad."
   ]
  },
  {
   "cell_type": "code",
   "execution_count": 49,
   "id": "80a0fcfb",
   "metadata": {},
   "outputs": [
    {
     "data": {
      "text/plain": [
       "SVC(C=1, gamma=0.01, probability=True, random_state=42)"
      ]
     },
     "execution_count": 49,
     "metadata": {},
     "output_type": "execute_result"
    }
   ],
   "source": [
    "# Fitting the SVM Classifier model on training dataset\n",
    "SVM_model.fit(X_train,y_train)"
   ]
  },
  {
   "cell_type": "code",
   "execution_count": 50,
   "id": "e28e8623",
   "metadata": {},
   "outputs": [
    {
     "data": {
      "text/plain": [
       "array([ 1, -1,  1, ..., -1,  1,  1], dtype=int64)"
      ]
     },
     "execution_count": 50,
     "metadata": {},
     "output_type": "execute_result"
    }
   ],
   "source": [
    "# Predicting the test set results\n",
    "SVM_pred = SVM_model.predict(X_test)\n",
    "SVM_pred"
   ]
  },
  {
   "cell_type": "code",
   "execution_count": 51,
   "id": "2e137428",
   "metadata": {},
   "outputs": [
    {
     "name": "stdout",
     "output_type": "stream",
     "text": [
      "Accuracy of SVM Classifier model on test set: 0.515\n"
     ]
    }
   ],
   "source": [
    "# Calculating the accuracy of SVM Classifier model\n",
    "print('Accuracy of SVM Classifier model on test set: {:.3f}'.format(SVM_model.score(X_test, y_test)))"
   ]
  },
  {
   "cell_type": "code",
   "execution_count": 52,
   "id": "33b1821c",
   "metadata": {},
   "outputs": [
    {
     "name": "stdout",
     "output_type": "stream",
     "text": [
      "[[296 440]\n",
      " [285 474]]\n"
     ]
    }
   ],
   "source": [
    "# Computing Confusion Matrix\n",
    "confusion_matrix = metrics.confusion_matrix(y_test, SVM_pred)\n",
    "print(confusion_matrix)"
   ]
  },
  {
   "cell_type": "markdown",
   "id": "78f37f25",
   "metadata": {},
   "source": [
    "#### Inference:\n",
    "The result is telling us that we have 296 + 474 correct predictions and 440 + 285 incorrect predictions."
   ]
  },
  {
   "cell_type": "code",
   "execution_count": 53,
   "id": "756e1918",
   "metadata": {},
   "outputs": [
    {
     "name": "stdout",
     "output_type": "stream",
     "text": [
      "              precision    recall  f1-score   support\n",
      "\n",
      "          -1       0.51      0.40      0.45       736\n",
      "           1       0.52      0.62      0.57       759\n",
      "\n",
      "    accuracy                           0.52      1495\n",
      "   macro avg       0.51      0.51      0.51      1495\n",
      "weighted avg       0.51      0.52      0.51      1495\n",
      "\n"
     ]
    }
   ],
   "source": [
    "# Computing precision, recall, F-measure and support\n",
    "print(metrics.classification_report(y_test, SVM_pred))"
   ]
  },
  {
   "cell_type": "markdown",
   "id": "b7c0f693",
   "metadata": {},
   "source": [
    "#### Inference:\n",
    "1. The precision is the ratio tp / (tp + fp) where tp is the number of true positives and fp the number of false positives. The precision is intuitively the ability of the classifier to not label a sample as positive if it is negative.\n",
    "2. The recall is the ratio tp / (tp + fn) where tp is the number of true positives and fn the number of false negatives. The recall is intuitively the ability of the classifier to find all the positive samples.\n",
    "3. The F-beta score can be interpreted as a weighted harmonic mean of the precision and recall, where an F-beta score reaches its best value at 1 and worst score at 0.\n",
    "4. The F-beta score weights the recall more than the precision by a factor of beta. beta = 1.0 means recall and precision are equally important.\n",
    "5. Of the entire test set, 51.5% of the Tomorrow's Direction were correctly predicted."
   ]
  },
  {
   "cell_type": "code",
   "execution_count": 54,
   "id": "881ff940",
   "metadata": {},
   "outputs": [
    {
     "data": {
      "image/png": "[encoded data removed]",
      "text/plain": [
       "<Figure size 432x288 with 1 Axes>"
      ]
     },
     "metadata": {
      "needs_background": "light"
     },
     "output_type": "display_data"
    }
   ],
   "source": [
    "# Plotting a ROC Curve\n",
    "SVM_roc_auc = metrics.roc_auc_score(y_test, SVM_pred)\n",
    "fpr, tpr, thresholds = metrics.roc_curve(y_test, SVM_model.predict_proba(X_test)[:,1])\n",
    "plt.figure()\n",
    "plt.plot(fpr, tpr, label='SVM Classifier (area = %0.2f)' % SVM_roc_auc)\n",
    "plt.plot([0, 1], [0, 1],'r--')\n",
    "plt.xlim([0.0, 1.0])\n",
    "plt.ylim([0.0, 1.05])\n",
    "plt.xlabel('False Positive Rate')\n",
    "plt.ylabel('True Positive Rate')\n",
    "plt.title('Receiver operating characteristic')\n",
    "plt.legend(loc=\"lower right\")\n",
    "plt.savefig('Log_ROC')\n",
    "plt.show()"
   ]
  },
  {
   "cell_type": "markdown",
   "id": "26cd6f11",
   "metadata": {},
   "source": [
    "#### Inference:\n",
    "1. ROC curve is another common tool used with binary classifiers. The dotted line represents the ROC curve of a purely random classifier; a good classifier stays as far away from that line as possible (toward the top-left corner)."
   ]
  },
  {
   "cell_type": "code",
   "execution_count": 55,
   "id": "a8badc57",
   "metadata": {},
   "outputs": [
    {
     "data": {
      "text/html": [
       "<div>\n",
       "<style scoped>\n",
       "    .dataframe tbody tr th:only-of-type {\n",
       "        vertical-align: middle;\n",
       "    }\n",
       "\n",
       "    .dataframe tbody tr th {\n",
       "        vertical-align: top;\n",
       "    }\n",
       "\n",
       "    .dataframe thead th {\n",
       "        text-align: right;\n",
       "    }\n",
       "</style>\n",
       "<table border=\"1\" class=\"dataframe\">\n",
       "  <thead>\n",
       "    <tr style=\"text-align: right;\">\n",
       "      <th></th>\n",
       "      <th>Model</th>\n",
       "      <th>Accuracy Score</th>\n",
       "    </tr>\n",
       "  </thead>\n",
       "  <tbody>\n",
       "    <tr>\n",
       "      <th>0</th>\n",
       "      <td>Logistic Regression</td>\n",
       "      <td>0.516</td>\n",
       "    </tr>\n",
       "    <tr>\n",
       "      <th>1</th>\n",
       "      <td>Decision Tree</td>\n",
       "      <td>0.516</td>\n",
       "    </tr>\n",
       "    <tr>\n",
       "      <th>2</th>\n",
       "      <td>Random Forest</td>\n",
       "      <td>0.530</td>\n",
       "    </tr>\n",
       "    <tr>\n",
       "      <th>3</th>\n",
       "      <td>SGD</td>\n",
       "      <td>0.509</td>\n",
       "    </tr>\n",
       "    <tr>\n",
       "      <th>4</th>\n",
       "      <td>SVM</td>\n",
       "      <td>0.515</td>\n",
       "    </tr>\n",
       "  </tbody>\n",
       "</table>\n",
       "</div>"
      ],
      "text/plain": [
       "                 Model Accuracy Score\n",
       "0  Logistic Regression          0.516\n",
       "1        Decision Tree          0.516\n",
       "2        Random Forest          0.530\n",
       "3                  SGD          0.509\n",
       "4                  SVM          0.515"
      ]
     },
     "execution_count": 55,
     "metadata": {},
     "output_type": "execute_result"
    }
   ],
   "source": [
    "# Comparing accuracy of different models\n",
    "models = [\"Logistic Regression\", \"Decision Tree\", \"Random Forest\", \"SGD\", \"SVM\"]\n",
    "accuracy_scores = [\"{:.3f}\".format(logmodel.score(X_test, y_test)), \"{:.3f}\".format(DT_clf.score(X_test, y_test)), \"{:.3f}\".format(RF_clf.score(X_test, y_test)), \"{:.3f}\".format(SGD_model.score(X_test, y_test)), \"{:.3f}\".format(SVM_model.score(X_test, y_test))]\n",
    "models_comparison_df = pd.DataFrame(\n",
    "        {'Model': models, \n",
    "         'Accuracy Score': accuracy_scores})\n",
    "models_comparison_df                       "
   ]
  },
  {
   "cell_type": "markdown",
   "id": "b22d9635",
   "metadata": {},
   "source": [
    "### Step 8: Tuning the parameters of models using GridSearchCV"
   ]
  },
  {
   "cell_type": "markdown",
   "id": "c8fde646",
   "metadata": {},
   "source": [
    "##### Logistic regression model"
   ]
  },
  {
   "cell_type": "code",
   "execution_count": 56,
   "id": "226ec87d",
   "metadata": {},
   "outputs": [
    {
     "data": {
      "text/plain": [
       "{'C': 0.01, 'penalty': 'l2'}"
      ]
     },
     "execution_count": 56,
     "metadata": {},
     "output_type": "execute_result"
    }
   ],
   "source": [
    "# Grid search cross validation\n",
    "params = {\"C\":np.logspace(-3,3,7), \"penalty\":[\"l1\",\"l2\"]}# l1 lasso l2 ridge\n",
    "grid_log_reg = GridSearchCV(LogisticRegression(random_state = 42),params,cv=10)\n",
    "grid_log_reg.fit(X_train, y_train)\n",
    "grid_log_reg.best_params_"
   ]
  },
  {
   "cell_type": "code",
   "execution_count": 57,
   "id": "b78717b1",
   "metadata": {},
   "outputs": [],
   "source": [
    "# logistic regression best model\n",
    "logmodel_gs = grid_log_reg.best_estimator_"
   ]
  },
  {
   "cell_type": "code",
   "execution_count": 58,
   "id": "2dd0a468",
   "metadata": {},
   "outputs": [
    {
     "name": "stdout",
     "output_type": "stream",
     "text": [
      "Accuracy of logistic regression classifier on test set after tuning the param: 0.506\n"
     ]
    }
   ],
   "source": [
    "# Calculating the accuracy of logistic regression model\n",
    "print('Accuracy of logistic regression classifier on test set after tuning the param: {:.3f}'.format(logmodel_gs.score(X_test, y_test)))"
   ]
  },
  {
   "cell_type": "markdown",
   "id": "c37cc719",
   "metadata": {},
   "source": [
    "#### Inference\n",
    "In this particular instance the parameters suggested by GridSearch did not improve the model."
   ]
  },
  {
   "cell_type": "markdown",
   "id": "a931adeb",
   "metadata": {},
   "source": [
    "##### Decision Tree model"
   ]
  },
  {
   "cell_type": "code",
   "execution_count": 59,
   "id": "166231aa",
   "metadata": {},
   "outputs": [
    {
     "name": "stdout",
     "output_type": "stream",
     "text": [
      "Fitting 5 folds for each of 90 candidates, totalling 450 fits\n"
     ]
    },
    {
     "name": "stderr",
     "output_type": "stream",
     "text": [
      "[Parallel(n_jobs=1)]: Using backend SequentialBackend with 1 concurrent workers.\n",
      "[Parallel(n_jobs=1)]: Done 450 out of 450 | elapsed:    3.1s finished\n"
     ]
    },
    {
     "data": {
      "text/plain": [
       "{'ccp_alpha': 0.001,\n",
       " 'criterion': 'gini',\n",
       " 'max_depth': 7,\n",
       " 'max_features': 'auto'}"
      ]
     },
     "execution_count": 59,
     "metadata": {},
     "output_type": "execute_result"
    }
   ],
   "source": [
    "# Grid search cross validation\n",
    "params = {'max_features': ['auto', 'sqrt', 'log2'],\n",
    "              'ccp_alpha': [0.1, .01, .001],\n",
    "              'max_depth' : [5, 6, 7, 8, 9],\n",
    "              'criterion' :['gini', 'entropy']\n",
    "             }\n",
    "grid_DT = GridSearchCV(DecisionTreeClassifier(random_state= 42), params, cv=5, verbose=True)\n",
    "grid_DT.fit(X_train, y_train)\n",
    "grid_DT.best_params_"
   ]
  },
  {
   "cell_type": "code",
   "execution_count": 60,
   "id": "99ad926a",
   "metadata": {},
   "outputs": [],
   "source": [
    "# Decision Tree best model\n",
    "DT_gs = grid_DT.best_estimator_"
   ]
  },
  {
   "cell_type": "code",
   "execution_count": 61,
   "id": "f34edc8b",
   "metadata": {},
   "outputs": [
    {
     "name": "stdout",
     "output_type": "stream",
     "text": [
      "Accuracy of Decision Tree classifier on test set after tuning the param: 0.514\n"
     ]
    }
   ],
   "source": [
    "# Calculating the accuracy of Decision Tree model\n",
    "print('Accuracy of Decision Tree classifier on test set after tuning the param: {:.3f}'.format(DT_gs.score(X_test, y_test)))\n"
   ]
  },
  {
   "cell_type": "markdown",
   "id": "3aa0c686",
   "metadata": {},
   "source": [
    "#### Inference\n",
    "The decision tree classifier does not show improvement in accuracy after parameters tuning using GridsearchCV"
   ]
  },
  {
   "cell_type": "markdown",
   "id": "bdd0ff3b",
   "metadata": {},
   "source": [
    "#### Random Forest Model"
   ]
  },
  {
   "cell_type": "code",
   "execution_count": 62,
   "id": "df9406fa",
   "metadata": {},
   "outputs": [
    {
     "name": "stdout",
     "output_type": "stream",
     "text": [
      "Fitting 5 folds for each of 108 candidates, totalling 540 fits\n"
     ]
    },
    {
     "name": "stderr",
     "output_type": "stream",
     "text": [
      "[Parallel(n_jobs=1)]: Using backend SequentialBackend with 1 concurrent workers.\n",
      "[Parallel(n_jobs=1)]: Done 540 out of 540 | elapsed:  6.2min finished\n"
     ]
    },
    {
     "data": {
      "text/plain": [
       "{'criterion': 'entropy',\n",
       " 'max_depth': 9,\n",
       " 'max_features': 'auto',\n",
       " 'n_estimators': 500}"
      ]
     },
     "execution_count": 62,
     "metadata": {},
     "output_type": "execute_result"
    }
   ],
   "source": [
    "# Grid search cross validation\n",
    "params = { \n",
    "    'n_estimators': [10, 100, 500],\n",
    "    'max_features': ['auto', 'sqrt', 'log2'],\n",
    "    'max_depth' : [4,5,6,7,8,9],\n",
    "    'criterion' :['gini', 'entropy']\n",
    "}\n",
    "grid_RF = GridSearchCV(RandomForestClassifier(random_state = 42), params, cv=5, verbose=True)\n",
    "grid_RF.fit(X_train, y_train)\n",
    "grid_RF.best_params_"
   ]
  },
  {
   "cell_type": "code",
   "execution_count": 63,
   "id": "68a4726c",
   "metadata": {},
   "outputs": [],
   "source": [
    "# Random Forest best model\n",
    "RF_gs = grid_RF.best_estimator_"
   ]
  },
  {
   "cell_type": "code",
   "execution_count": 64,
   "id": "ec17ba33",
   "metadata": {},
   "outputs": [
    {
     "name": "stdout",
     "output_type": "stream",
     "text": [
      "Accuracy of Random Forest classifier on test set after tuning the param: 0.530\n"
     ]
    }
   ],
   "source": [
    "# Calculating the accuracy of Random Forest model\n",
    "print('Accuracy of Random Forest classifier on test set after tuning the param: {:.3f}'.format(RF_gs.score(X_test, y_test)))\n"
   ]
  },
  {
   "cell_type": "markdown",
   "id": "10409087",
   "metadata": {},
   "source": [
    "#### Inference\n",
    "The parameter tuning shows the same performance of the Random Forest Classifier using GridsearchCV"
   ]
  },
  {
   "cell_type": "markdown",
   "id": "77565131",
   "metadata": {},
   "source": [
    "#### SGD Model"
   ]
  },
  {
   "cell_type": "code",
   "execution_count": 65,
   "id": "cefca131",
   "metadata": {},
   "outputs": [
    {
     "name": "stdout",
     "output_type": "stream",
     "text": [
      "Fitting 5 folds for each of 48 candidates, totalling 240 fits\n"
     ]
    },
    {
     "name": "stderr",
     "output_type": "stream",
     "text": [
      "[Parallel(n_jobs=1)]: Using backend SequentialBackend with 1 concurrent workers.\n",
      "[Parallel(n_jobs=1)]: Done 240 out of 240 | elapsed:    3.9s finished\n"
     ]
    },
    {
     "data": {
      "text/plain": [
       "{'alpha': 0.1, 'loss': 'log', 'penalty': 'l2'}"
      ]
     },
     "execution_count": 65,
     "metadata": {},
     "output_type": "execute_result"
    }
   ],
   "source": [
    "# Grid search cross validation\n",
    "params = {\n",
    "    \"loss\" : [\"hinge\", \"log\", \"squared_hinge\", \"modified_huber\"],\n",
    "    \"alpha\" : [0.0001, 0.001, 0.01, 0.1],\n",
    "    \"penalty\" : [\"l2\", \"l1\", \"none\"],\n",
    "}\n",
    "grid_SGD = GridSearchCV(SGDClassifier(max_iter=1000, random_state = 42), params, cv=5, verbose=True)\n",
    "grid_SGD.fit(X_train, y_train)\n",
    "grid_SGD.best_params_"
   ]
  },
  {
   "cell_type": "code",
   "execution_count": 66,
   "id": "6b6dad9c",
   "metadata": {},
   "outputs": [],
   "source": [
    "# SGD best model\n",
    "SGD_gs = grid_SGD.best_estimator_"
   ]
  },
  {
   "cell_type": "code",
   "execution_count": 67,
   "id": "f12693ab",
   "metadata": {},
   "outputs": [
    {
     "name": "stdout",
     "output_type": "stream",
     "text": [
      "Accuracy of SGD on test set after tuning the param: 0.516\n"
     ]
    }
   ],
   "source": [
    "# Calculating the accuracy of SGD model\n",
    "print('Accuracy of SGD on test set after tuning the param: {:.3f}'.format(SGD_gs.score(X_test, y_test)))\n"
   ]
  },
  {
   "cell_type": "markdown",
   "id": "fdc13f9e",
   "metadata": {},
   "source": [
    "#### Inference\n",
    "We can observe parameter tuning improved the performance of the SGD model."
   ]
  },
  {
   "cell_type": "markdown",
   "id": "aaa0156e",
   "metadata": {},
   "source": [
    "#### SVM Model"
   ]
  },
  {
   "cell_type": "code",
   "execution_count": 68,
   "id": "24f6713b",
   "metadata": {
    "scrolled": false
   },
   "outputs": [
    {
     "name": "stdout",
     "output_type": "stream",
     "text": [
      "Fitting 5 folds for each of 25 candidates, totalling 125 fits\n"
     ]
    },
    {
     "name": "stderr",
     "output_type": "stream",
     "text": [
      "[Parallel(n_jobs=1)]: Using backend SequentialBackend with 1 concurrent workers.\n",
      "[Parallel(n_jobs=1)]: Done 125 out of 125 | elapsed:   42.3s finished\n"
     ]
    },
    {
     "data": {
      "text/plain": [
       "{'C': 1000, 'gamma': 0.001, 'kernel': 'rbf'}"
      ]
     },
     "execution_count": 68,
     "metadata": {},
     "output_type": "execute_result"
    }
   ],
   "source": [
    "# Grid search cross validation\n",
    "params = {'C': [0.1, 1, 10, 100, 1000], \n",
    "              'gamma': [1, 0.1, 0.01, 0.001, 0.0001],\n",
    "              'kernel': ['rbf']} \n",
    "grid_SVM = GridSearchCV(SVC(random_state = 42), params, verbose=True, cv=5)\n",
    "grid_SVM.fit(X_train, y_train)\n",
    "grid_SVM.best_params_"
   ]
  },
  {
   "cell_type": "code",
   "execution_count": 69,
   "id": "f47b1cce",
   "metadata": {},
   "outputs": [],
   "source": [
    "# SVM best model\n",
    "SVM_gs = grid_SVM.best_estimator_"
   ]
  },
  {
   "cell_type": "code",
   "execution_count": 70,
   "id": "cae961f3",
   "metadata": {},
   "outputs": [
    {
     "name": "stdout",
     "output_type": "stream",
     "text": [
      "Accuracy of SVM on test set after tuning the param: 0.505\n"
     ]
    }
   ],
   "source": [
    "# Calculating the accuracy of SGD model\n",
    "print('Accuracy of SVM on test set after tuning the param: {:.3f}'.format(SVM_gs.score(X_test, y_test)))\n"
   ]
  },
  {
   "cell_type": "markdown",
   "id": "65558f1e",
   "metadata": {},
   "source": [
    "Here we can observe the gridsearchcv degraded the peroformance of SVM model."
   ]
  },
  {
   "cell_type": "code",
   "execution_count": 71,
   "id": "22aa5f6d",
   "metadata": {
    "scrolled": true
   },
   "outputs": [
    {
     "data": {
      "text/html": [
       "<div>\n",
       "<style scoped>\n",
       "    .dataframe tbody tr th:only-of-type {\n",
       "        vertical-align: middle;\n",
       "    }\n",
       "\n",
       "    .dataframe tbody tr th {\n",
       "        vertical-align: top;\n",
       "    }\n",
       "\n",
       "    .dataframe thead th {\n",
       "        text-align: right;\n",
       "    }\n",
       "</style>\n",
       "<table border=\"1\" class=\"dataframe\">\n",
       "  <thead>\n",
       "    <tr style=\"text-align: right;\">\n",
       "      <th></th>\n",
       "      <th>Model</th>\n",
       "      <th>Accuracy Score</th>\n",
       "      <th>Accuracy Score after Tuning</th>\n",
       "    </tr>\n",
       "  </thead>\n",
       "  <tbody>\n",
       "    <tr>\n",
       "      <th>0</th>\n",
       "      <td>Logistic Regression</td>\n",
       "      <td>0.516</td>\n",
       "      <td>0.506</td>\n",
       "    </tr>\n",
       "    <tr>\n",
       "      <th>1</th>\n",
       "      <td>Decision Tree</td>\n",
       "      <td>0.516</td>\n",
       "      <td>0.514</td>\n",
       "    </tr>\n",
       "    <tr>\n",
       "      <th>2</th>\n",
       "      <td>Random Forest</td>\n",
       "      <td>0.530</td>\n",
       "      <td>0.530</td>\n",
       "    </tr>\n",
       "    <tr>\n",
       "      <th>3</th>\n",
       "      <td>SGD</td>\n",
       "      <td>0.509</td>\n",
       "      <td>0.516</td>\n",
       "    </tr>\n",
       "    <tr>\n",
       "      <th>4</th>\n",
       "      <td>SVM</td>\n",
       "      <td>0.515</td>\n",
       "      <td>0.505</td>\n",
       "    </tr>\n",
       "  </tbody>\n",
       "</table>\n",
       "</div>"
      ],
      "text/plain": [
       "                 Model Accuracy Score Accuracy Score after Tuning\n",
       "0  Logistic Regression          0.516                       0.506\n",
       "1        Decision Tree          0.516                       0.514\n",
       "2        Random Forest          0.530                       0.530\n",
       "3                  SGD          0.509                       0.516\n",
       "4                  SVM          0.515                       0.505"
      ]
     },
     "execution_count": 71,
     "metadata": {},
     "output_type": "execute_result"
    }
   ],
   "source": [
    "# Comparing accuracy of different models\n",
    "acc = pd.Series([\"{:.3f}\".format(logmodel_gs.score(X_test, y_test)), \n",
    "                \"{:.3f}\".format(DT_gs.score(X_test, y_test)), \n",
    "                \"{:.3f}\".format(RF_gs.score(X_test, y_test)), \n",
    "                \"{:.3f}\".format(SGD_gs.score(X_test, y_test)), \n",
    "                \"{:.3f}\".format(SVM_gs.score(X_test, y_test))])\n",
    "\n",
    "models_comparison_df[\"Accuracy Score after Tuning\"] = acc\n",
    "\n",
    "models_comparison_df"
   ]
  },
  {
   "cell_type": "markdown",
   "id": "3385a381",
   "metadata": {},
   "source": [
    "#### Inference\n",
    "Only 1 out of 5 models improved the performance thanks to the parameters tuning, unfortunately the accuracy is still very low."
   ]
  },
  {
   "cell_type": "markdown",
   "id": "73d91ca8",
   "metadata": {},
   "source": [
    "### Step 9: Features selection and models re-evaluation"
   ]
  },
  {
   "cell_type": "code",
   "execution_count": 72,
   "id": "1dcc36da",
   "metadata": {},
   "outputs": [
    {
     "data": {
      "text/html": [
       "<div>\n",
       "<style scoped>\n",
       "    .dataframe tbody tr th:only-of-type {\n",
       "        vertical-align: middle;\n",
       "    }\n",
       "\n",
       "    .dataframe tbody tr th {\n",
       "        vertical-align: top;\n",
       "    }\n",
       "\n",
       "    .dataframe thead th {\n",
       "        text-align: right;\n",
       "    }\n",
       "</style>\n",
       "<table border=\"1\" class=\"dataframe\">\n",
       "  <thead>\n",
       "    <tr style=\"text-align: right;\">\n",
       "      <th></th>\n",
       "      <th>Tomorrow_Direction</th>\n",
       "      <th>Close</th>\n",
       "      <th>Volume</th>\n",
       "      <th>Range</th>\n",
       "      <th>Standardized_Range_20</th>\n",
       "      <th>Standardized_ROC_20</th>\n",
       "      <th>Standardized_Weekly_ROC_20</th>\n",
       "      <th>Standardized_Close_20</th>\n",
       "      <th>Standardized_Volume_20</th>\n",
       "      <th>Day_of_Week</th>\n",
       "      <th>MACD_20_50</th>\n",
       "      <th>ADX_20</th>\n",
       "    </tr>\n",
       "  </thead>\n",
       "  <tbody>\n",
       "    <tr>\n",
       "      <th>0</th>\n",
       "      <td>-1</td>\n",
       "      <td>1.15330</td>\n",
       "      <td>0.035916</td>\n",
       "      <td>0.011397</td>\n",
       "      <td>-0.182663</td>\n",
       "      <td>0.262551</td>\n",
       "      <td>-0.759365</td>\n",
       "      <td>-1.698919</td>\n",
       "      <td>0.198607</td>\n",
       "      <td>3</td>\n",
       "      <td>0.016158</td>\n",
       "      <td>24.401101</td>\n",
       "    </tr>\n",
       "    <tr>\n",
       "      <th>1</th>\n",
       "      <td>1</td>\n",
       "      <td>1.14180</td>\n",
       "      <td>0.034575</td>\n",
       "      <td>0.011565</td>\n",
       "      <td>-0.048185</td>\n",
       "      <td>-1.102030</td>\n",
       "      <td>-1.730104</td>\n",
       "      <td>-2.317003</td>\n",
       "      <td>-0.523230</td>\n",
       "      <td>4</td>\n",
       "      <td>0.014169</td>\n",
       "      <td>24.948900</td>\n",
       "    </tr>\n",
       "    <tr>\n",
       "      <th>2</th>\n",
       "      <td>1</td>\n",
       "      <td>1.14250</td>\n",
       "      <td>0.032557</td>\n",
       "      <td>0.006229</td>\n",
       "      <td>-1.350905</td>\n",
       "      <td>0.230855</td>\n",
       "      <td>-0.570485</td>\n",
       "      <td>-1.912566</td>\n",
       "      <td>-1.550458</td>\n",
       "      <td>5</td>\n",
       "      <td>0.012426</td>\n",
       "      <td>25.802551</td>\n",
       "    </tr>\n",
       "    <tr>\n",
       "      <th>3</th>\n",
       "      <td>1</td>\n",
       "      <td>1.15240</td>\n",
       "      <td>0.031051</td>\n",
       "      <td>0.012018</td>\n",
       "      <td>0.170307</td>\n",
       "      <td>1.221419</td>\n",
       "      <td>0.366398</td>\n",
       "      <td>-1.048361</td>\n",
       "      <td>-2.063830</td>\n",
       "      <td>1</td>\n",
       "      <td>0.011419</td>\n",
       "      <td>25.031274</td>\n",
       "    </tr>\n",
       "    <tr>\n",
       "      <th>4</th>\n",
       "      <td>-1</td>\n",
       "      <td>1.15670</td>\n",
       "      <td>0.030989</td>\n",
       "      <td>0.009212</td>\n",
       "      <td>-0.596454</td>\n",
       "      <td>0.590436</td>\n",
       "      <td>0.885835</td>\n",
       "      <td>-0.660248</td>\n",
       "      <td>-1.805785</td>\n",
       "      <td>2</td>\n",
       "      <td>0.010742</td>\n",
       "      <td>22.799284</td>\n",
       "    </tr>\n",
       "    <tr>\n",
       "      <th>...</th>\n",
       "      <td>...</td>\n",
       "      <td>...</td>\n",
       "      <td>...</td>\n",
       "      <td>...</td>\n",
       "      <td>...</td>\n",
       "      <td>...</td>\n",
       "      <td>...</td>\n",
       "      <td>...</td>\n",
       "      <td>...</td>\n",
       "      <td>...</td>\n",
       "      <td>...</td>\n",
       "      <td>...</td>\n",
       "    </tr>\n",
       "    <tr>\n",
       "      <th>4995</th>\n",
       "      <td>1</td>\n",
       "      <td>0.99966</td>\n",
       "      <td>0.290767</td>\n",
       "      <td>0.006278</td>\n",
       "      <td>-1.235903</td>\n",
       "      <td>0.385388</td>\n",
       "      <td>0.262369</td>\n",
       "      <td>0.158557</td>\n",
       "      <td>-1.697365</td>\n",
       "      <td>4</td>\n",
       "      <td>-0.010682</td>\n",
       "      <td>18.569969</td>\n",
       "    </tr>\n",
       "    <tr>\n",
       "      <th>4996</th>\n",
       "      <td>1</td>\n",
       "      <td>1.00129</td>\n",
       "      <td>0.330742</td>\n",
       "      <td>0.009282</td>\n",
       "      <td>-0.505310</td>\n",
       "      <td>0.280573</td>\n",
       "      <td>-0.559334</td>\n",
       "      <td>0.525663</td>\n",
       "      <td>-0.988528</td>\n",
       "      <td>5</td>\n",
       "      <td>-0.010319</td>\n",
       "      <td>17.601942</td>\n",
       "    </tr>\n",
       "    <tr>\n",
       "      <th>4997</th>\n",
       "      <td>-1</td>\n",
       "      <td>1.00240</td>\n",
       "      <td>0.254601</td>\n",
       "      <td>0.006342</td>\n",
       "      <td>-1.180031</td>\n",
       "      <td>0.278174</td>\n",
       "      <td>-0.730872</td>\n",
       "      <td>0.678504</td>\n",
       "      <td>-2.290141</td>\n",
       "      <td>1</td>\n",
       "      <td>-0.009903</td>\n",
       "      <td>16.726108</td>\n",
       "    </tr>\n",
       "    <tr>\n",
       "      <th>4998</th>\n",
       "      <td>-1</td>\n",
       "      <td>0.99711</td>\n",
       "      <td>0.324549</td>\n",
       "      <td>0.009613</td>\n",
       "      <td>-0.294366</td>\n",
       "      <td>-0.926199</td>\n",
       "      <td>0.150651</td>\n",
       "      <td>-0.427044</td>\n",
       "      <td>-0.862711</td>\n",
       "      <td>2</td>\n",
       "      <td>-0.009800</td>\n",
       "      <td>16.589147</td>\n",
       "    </tr>\n",
       "    <tr>\n",
       "      <th>4999</th>\n",
       "      <td>1</td>\n",
       "      <td>0.98372</td>\n",
       "      <td>0.405904</td>\n",
       "      <td>0.016570</td>\n",
       "      <td>1.358902</td>\n",
       "      <td>-2.073671</td>\n",
       "      <td>-1.530579</td>\n",
       "      <td>-2.510594</td>\n",
       "      <td>0.616130</td>\n",
       "      <td>3</td>\n",
       "      <td>-0.010425</td>\n",
       "      <td>16.235647</td>\n",
       "    </tr>\n",
       "  </tbody>\n",
       "</table>\n",
       "<p>4981 rows × 12 columns</p>\n",
       "</div>"
      ],
      "text/plain": [
       "      Tomorrow_Direction    Close    Volume     Range  Standardized_Range_20  \\\n",
       "0                     -1  1.15330  0.035916  0.011397              -0.182663   \n",
       "1                      1  1.14180  0.034575  0.011565              -0.048185   \n",
       "2                      1  1.14250  0.032557  0.006229              -1.350905   \n",
       "3                      1  1.15240  0.031051  0.012018               0.170307   \n",
       "4                     -1  1.15670  0.030989  0.009212              -0.596454   \n",
       "...                  ...      ...       ...       ...                    ...   \n",
       "4995                   1  0.99966  0.290767  0.006278              -1.235903   \n",
       "4996                   1  1.00129  0.330742  0.009282              -0.505310   \n",
       "4997                  -1  1.00240  0.254601  0.006342              -1.180031   \n",
       "4998                  -1  0.99711  0.324549  0.009613              -0.294366   \n",
       "4999                   1  0.98372  0.405904  0.016570               1.358902   \n",
       "\n",
       "      Standardized_ROC_20  Standardized_Weekly_ROC_20  Standardized_Close_20  \\\n",
       "0                0.262551                   -0.759365              -1.698919   \n",
       "1               -1.102030                   -1.730104              -2.317003   \n",
       "2                0.230855                   -0.570485              -1.912566   \n",
       "3                1.221419                    0.366398              -1.048361   \n",
       "4                0.590436                    0.885835              -0.660248   \n",
       "...                   ...                         ...                    ...   \n",
       "4995             0.385388                    0.262369               0.158557   \n",
       "4996             0.280573                   -0.559334               0.525663   \n",
       "4997             0.278174                   -0.730872               0.678504   \n",
       "4998            -0.926199                    0.150651              -0.427044   \n",
       "4999            -2.073671                   -1.530579              -2.510594   \n",
       "\n",
       "      Standardized_Volume_20  Day_of_Week  MACD_20_50     ADX_20  \n",
       "0                   0.198607            3    0.016158  24.401101  \n",
       "1                  -0.523230            4    0.014169  24.948900  \n",
       "2                  -1.550458            5    0.012426  25.802551  \n",
       "3                  -2.063830            1    0.011419  25.031274  \n",
       "4                  -1.805785            2    0.010742  22.799284  \n",
       "...                      ...          ...         ...        ...  \n",
       "4995               -1.697365            4   -0.010682  18.569969  \n",
       "4996               -0.988528            5   -0.010319  17.601942  \n",
       "4997               -2.290141            1   -0.009903  16.726108  \n",
       "4998               -0.862711            2   -0.009800  16.589147  \n",
       "4999                0.616130            3   -0.010425  16.235647  \n",
       "\n",
       "[4981 rows x 12 columns]"
      ]
     },
     "execution_count": 72,
     "metadata": {},
     "output_type": "execute_result"
    }
   ],
   "source": [
    "eur_usd_df_2 = eur_usd_df.copy()\n",
    "eur_usd_df_2"
   ]
  },
  {
   "cell_type": "markdown",
   "id": "1c9c9927",
   "metadata": {},
   "source": [
    "After feeding the dataset to a feature selctor tool developed by us the features considered as best by the FeatureSelector are the following: 'Standardized_Weekly_ROC_20', 'Standardized_Range_20', 'Volume', 'Standardized_Volume_20', 'Standardized_ROC_20', 'Close', 'MACD_20_50'. \n",
    "As a consequence we will re-evaluate all the models only taking into account the above mentioned features."
   ]
  },
  {
   "cell_type": "code",
   "execution_count": 73,
   "id": "cd9e54b3",
   "metadata": {},
   "outputs": [
    {
     "data": {
      "text/html": [
       "<div>\n",
       "<style scoped>\n",
       "    .dataframe tbody tr th:only-of-type {\n",
       "        vertical-align: middle;\n",
       "    }\n",
       "\n",
       "    .dataframe tbody tr th {\n",
       "        vertical-align: top;\n",
       "    }\n",
       "\n",
       "    .dataframe thead th {\n",
       "        text-align: right;\n",
       "    }\n",
       "</style>\n",
       "<table border=\"1\" class=\"dataframe\">\n",
       "  <thead>\n",
       "    <tr style=\"text-align: right;\">\n",
       "      <th></th>\n",
       "      <th>Tomorrow_Direction</th>\n",
       "      <th>Standardized_Weekly_ROC_20</th>\n",
       "      <th>Standardized_Range_20</th>\n",
       "      <th>Volume</th>\n",
       "      <th>Standardized_Volume_20</th>\n",
       "      <th>Standardized_ROC_20</th>\n",
       "      <th>Close</th>\n",
       "      <th>MACD_20_50</th>\n",
       "    </tr>\n",
       "  </thead>\n",
       "  <tbody>\n",
       "    <tr>\n",
       "      <th>0</th>\n",
       "      <td>-1</td>\n",
       "      <td>-0.759365</td>\n",
       "      <td>-0.182663</td>\n",
       "      <td>0.035916</td>\n",
       "      <td>0.198607</td>\n",
       "      <td>0.262551</td>\n",
       "      <td>1.15330</td>\n",
       "      <td>0.016158</td>\n",
       "    </tr>\n",
       "    <tr>\n",
       "      <th>1</th>\n",
       "      <td>1</td>\n",
       "      <td>-1.730104</td>\n",
       "      <td>-0.048185</td>\n",
       "      <td>0.034575</td>\n",
       "      <td>-0.523230</td>\n",
       "      <td>-1.102030</td>\n",
       "      <td>1.14180</td>\n",
       "      <td>0.014169</td>\n",
       "    </tr>\n",
       "    <tr>\n",
       "      <th>2</th>\n",
       "      <td>1</td>\n",
       "      <td>-0.570485</td>\n",
       "      <td>-1.350905</td>\n",
       "      <td>0.032557</td>\n",
       "      <td>-1.550458</td>\n",
       "      <td>0.230855</td>\n",
       "      <td>1.14250</td>\n",
       "      <td>0.012426</td>\n",
       "    </tr>\n",
       "    <tr>\n",
       "      <th>3</th>\n",
       "      <td>1</td>\n",
       "      <td>0.366398</td>\n",
       "      <td>0.170307</td>\n",
       "      <td>0.031051</td>\n",
       "      <td>-2.063830</td>\n",
       "      <td>1.221419</td>\n",
       "      <td>1.15240</td>\n",
       "      <td>0.011419</td>\n",
       "    </tr>\n",
       "    <tr>\n",
       "      <th>4</th>\n",
       "      <td>-1</td>\n",
       "      <td>0.885835</td>\n",
       "      <td>-0.596454</td>\n",
       "      <td>0.030989</td>\n",
       "      <td>-1.805785</td>\n",
       "      <td>0.590436</td>\n",
       "      <td>1.15670</td>\n",
       "      <td>0.010742</td>\n",
       "    </tr>\n",
       "    <tr>\n",
       "      <th>...</th>\n",
       "      <td>...</td>\n",
       "      <td>...</td>\n",
       "      <td>...</td>\n",
       "      <td>...</td>\n",
       "      <td>...</td>\n",
       "      <td>...</td>\n",
       "      <td>...</td>\n",
       "      <td>...</td>\n",
       "    </tr>\n",
       "    <tr>\n",
       "      <th>4995</th>\n",
       "      <td>1</td>\n",
       "      <td>0.262369</td>\n",
       "      <td>-1.235903</td>\n",
       "      <td>0.290767</td>\n",
       "      <td>-1.697365</td>\n",
       "      <td>0.385388</td>\n",
       "      <td>0.99966</td>\n",
       "      <td>-0.010682</td>\n",
       "    </tr>\n",
       "    <tr>\n",
       "      <th>4996</th>\n",
       "      <td>1</td>\n",
       "      <td>-0.559334</td>\n",
       "      <td>-0.505310</td>\n",
       "      <td>0.330742</td>\n",
       "      <td>-0.988528</td>\n",
       "      <td>0.280573</td>\n",
       "      <td>1.00129</td>\n",
       "      <td>-0.010319</td>\n",
       "    </tr>\n",
       "    <tr>\n",
       "      <th>4997</th>\n",
       "      <td>-1</td>\n",
       "      <td>-0.730872</td>\n",
       "      <td>-1.180031</td>\n",
       "      <td>0.254601</td>\n",
       "      <td>-2.290141</td>\n",
       "      <td>0.278174</td>\n",
       "      <td>1.00240</td>\n",
       "      <td>-0.009903</td>\n",
       "    </tr>\n",
       "    <tr>\n",
       "      <th>4998</th>\n",
       "      <td>-1</td>\n",
       "      <td>0.150651</td>\n",
       "      <td>-0.294366</td>\n",
       "      <td>0.324549</td>\n",
       "      <td>-0.862711</td>\n",
       "      <td>-0.926199</td>\n",
       "      <td>0.99711</td>\n",
       "      <td>-0.009800</td>\n",
       "    </tr>\n",
       "    <tr>\n",
       "      <th>4999</th>\n",
       "      <td>1</td>\n",
       "      <td>-1.530579</td>\n",
       "      <td>1.358902</td>\n",
       "      <td>0.405904</td>\n",
       "      <td>0.616130</td>\n",
       "      <td>-2.073671</td>\n",
       "      <td>0.98372</td>\n",
       "      <td>-0.010425</td>\n",
       "    </tr>\n",
       "  </tbody>\n",
       "</table>\n",
       "<p>4981 rows × 8 columns</p>\n",
       "</div>"
      ],
      "text/plain": [
       "      Tomorrow_Direction  Standardized_Weekly_ROC_20  Standardized_Range_20  \\\n",
       "0                     -1                   -0.759365              -0.182663   \n",
       "1                      1                   -1.730104              -0.048185   \n",
       "2                      1                   -0.570485              -1.350905   \n",
       "3                      1                    0.366398               0.170307   \n",
       "4                     -1                    0.885835              -0.596454   \n",
       "...                  ...                         ...                    ...   \n",
       "4995                   1                    0.262369              -1.235903   \n",
       "4996                   1                   -0.559334              -0.505310   \n",
       "4997                  -1                   -0.730872              -1.180031   \n",
       "4998                  -1                    0.150651              -0.294366   \n",
       "4999                   1                   -1.530579               1.358902   \n",
       "\n",
       "        Volume  Standardized_Volume_20  Standardized_ROC_20    Close  \\\n",
       "0     0.035916                0.198607             0.262551  1.15330   \n",
       "1     0.034575               -0.523230            -1.102030  1.14180   \n",
       "2     0.032557               -1.550458             0.230855  1.14250   \n",
       "3     0.031051               -2.063830             1.221419  1.15240   \n",
       "4     0.030989               -1.805785             0.590436  1.15670   \n",
       "...        ...                     ...                  ...      ...   \n",
       "4995  0.290767               -1.697365             0.385388  0.99966   \n",
       "4996  0.330742               -0.988528             0.280573  1.00129   \n",
       "4997  0.254601               -2.290141             0.278174  1.00240   \n",
       "4998  0.324549               -0.862711            -0.926199  0.99711   \n",
       "4999  0.405904                0.616130            -2.073671  0.98372   \n",
       "\n",
       "      MACD_20_50  \n",
       "0       0.016158  \n",
       "1       0.014169  \n",
       "2       0.012426  \n",
       "3       0.011419  \n",
       "4       0.010742  \n",
       "...          ...  \n",
       "4995   -0.010682  \n",
       "4996   -0.010319  \n",
       "4997   -0.009903  \n",
       "4998   -0.009800  \n",
       "4999   -0.010425  \n",
       "\n",
       "[4981 rows x 8 columns]"
      ]
     },
     "execution_count": 73,
     "metadata": {},
     "output_type": "execute_result"
    }
   ],
   "source": [
    "# Dropping some features \n",
    "features_to_keep = ['Tomorrow_Direction', 'Standardized_Weekly_ROC_20', 'Standardized_Range_20', 'Volume',\n",
    "       'Standardized_Volume_20', 'Standardized_ROC_20', 'Close', 'MACD_20_50']\n",
    "eur_usd_df_2 = eur_usd_df_2[features_to_keep]\n",
    "eur_usd_df_2"
   ]
  },
  {
   "cell_type": "code",
   "execution_count": 74,
   "id": "d12881e7",
   "metadata": {},
   "outputs": [
    {
     "data": {
      "image/png": "[encoded data removed]",
      "text/plain": [
       "<Figure size 1440x720 with 2 Axes>"
      ]
     },
     "metadata": {
      "needs_background": "light"
     },
     "output_type": "display_data"
    }
   ],
   "source": [
    "# Plotting correlations on a heatmap\n",
    "plt.figure(figsize=(20,10))\n",
    "cor = eur_usd_df_2.corr()\n",
    "sns.heatmap(cor, cmap=\"YlGnBu\", annot=True)\n",
    "plt.show()"
   ]
  },
  {
   "cell_type": "markdown",
   "id": "3b7e0a47",
   "metadata": {},
   "source": [
    "#### Inference\n",
    "For further developements we might consider swapping 'Volume', 'Standardized_ROC_20', 'Standardized_Volume_20'or 'Standardized_Range_20' with other features as they are showing some degree of correlation."
   ]
  },
  {
   "cell_type": "code",
   "execution_count": 75,
   "id": "b0e8c222",
   "metadata": {},
   "outputs": [],
   "source": [
    "# Putting feature variables to X\n",
    "X_2 = eur_usd_df_2.drop('Tomorrow_Direction', axis=1)\n",
    "\n",
    "# Putting response variable to y\n",
    "y_2 = eur_usd_df_2['Tomorrow_Direction']\n",
    "\n",
    "# Splitting the data into train and test dataset\n",
    "X_train_2, X_test_2, y_train_2, y_test_2 = train_test_split(X_2, y_2, test_size=0.3, random_state=10)"
   ]
  },
  {
   "cell_type": "markdown",
   "id": "fc301479",
   "metadata": {},
   "source": [
    "##### Logistic Regression"
   ]
  },
  {
   "cell_type": "code",
   "execution_count": 76,
   "id": "fe5ec9ee",
   "metadata": {},
   "outputs": [
    {
     "data": {
      "text/plain": [
       "{'C': 0.001, 'penalty': 'l2'}"
      ]
     },
     "execution_count": 76,
     "metadata": {},
     "output_type": "execute_result"
    }
   ],
   "source": [
    "# Grid search cross validation\n",
    "params = {\"C\":np.logspace(-3,3,7), \"penalty\":[\"l1\",\"l2\"]}# l1 lasso l2 ridge\n",
    "grid_log_reg = GridSearchCV(LogisticRegression(random_state = 42),params,cv=10)\n",
    "grid_log_reg.fit(X_train_2, y_train_2)\n",
    "grid_log_reg.best_params_"
   ]
  },
  {
   "cell_type": "code",
   "execution_count": 77,
   "id": "3f7ed564",
   "metadata": {},
   "outputs": [
    {
     "name": "stdout",
     "output_type": "stream",
     "text": [
      "Accuracy of logistic regression classifier on test set after removing some features: 0.526\n"
     ]
    }
   ],
   "source": [
    "# Logistic regression best model\n",
    "logmodel_2 = grid_log_reg.best_estimator_\n",
    "\n",
    "# Calculating the accuracy of logistic regression model\n",
    "print('Accuracy of logistic regression classifier on test set after removing some features: {:.3f}'.format(logmodel_2.score(X_test_2, y_test_2)))\n"
   ]
  },
  {
   "cell_type": "markdown",
   "id": "9f990c99",
   "metadata": {},
   "source": [
    "#### Inference\n",
    "1. The model performance improved.\n",
    "2. We can observe the paramenters suggested by GridSearch changed due to the different features selected at this stage. "
   ]
  },
  {
   "cell_type": "markdown",
   "id": "74af695c",
   "metadata": {},
   "source": [
    "##### Decision Tree model"
   ]
  },
  {
   "cell_type": "code",
   "execution_count": 78,
   "id": "38ff01f7",
   "metadata": {},
   "outputs": [
    {
     "name": "stdout",
     "output_type": "stream",
     "text": [
      "Fitting 5 folds for each of 90 candidates, totalling 450 fits\n"
     ]
    },
    {
     "name": "stderr",
     "output_type": "stream",
     "text": [
      "[Parallel(n_jobs=1)]: Using backend SequentialBackend with 1 concurrent workers.\n",
      "[Parallel(n_jobs=1)]: Done 450 out of 450 | elapsed:    2.8s finished\n"
     ]
    },
    {
     "data": {
      "text/plain": [
       "{'ccp_alpha': 0.001,\n",
       " 'criterion': 'gini',\n",
       " 'max_depth': 9,\n",
       " 'max_features': 'auto'}"
      ]
     },
     "execution_count": 78,
     "metadata": {},
     "output_type": "execute_result"
    }
   ],
   "source": [
    "# Grid search cross validation\n",
    "params = {'max_features': ['auto', 'sqrt', 'log2'],\n",
    "              'ccp_alpha': [0.1, .01, .001],\n",
    "              'max_depth' : [5, 6, 7, 8, 9],\n",
    "              'criterion' :['gini', 'entropy']\n",
    "             }\n",
    "grid_DT = GridSearchCV(DecisionTreeClassifier(random_state = 42), params, cv=5, verbose=True)\n",
    "grid_DT.fit(X_train_2, y_train_2)\n",
    "grid_DT.best_params_"
   ]
  },
  {
   "cell_type": "code",
   "execution_count": 79,
   "id": "0b360068",
   "metadata": {},
   "outputs": [
    {
     "name": "stdout",
     "output_type": "stream",
     "text": [
      "Accuracy of Decision Tree model on test set after removing some features: 0.500\n"
     ]
    }
   ],
   "source": [
    "# Decision Tree best model\n",
    "DT_2 = grid_DT.best_estimator_\n",
    "\n",
    "# Calculating the accuracy of Decision Tree model\n",
    "print('Accuracy of Decision Tree model on test set after removing some features: {:.3f}'.format(DT_2.score(X_test_2, y_test_2)))\n",
    "\n"
   ]
  },
  {
   "cell_type": "markdown",
   "id": "2148965c",
   "metadata": {},
   "source": [
    "#### Inference\n",
    "1. The performance of this model degraded.\n",
    "2. Even in this instance a parameter change was suggested."
   ]
  },
  {
   "cell_type": "markdown",
   "id": "06a1a6ef",
   "metadata": {},
   "source": [
    "##### Random Forest Model"
   ]
  },
  {
   "cell_type": "code",
   "execution_count": 89,
   "id": "11eca47e",
   "metadata": {},
   "outputs": [
    {
     "name": "stdout",
     "output_type": "stream",
     "text": [
      "Fitting 5 folds for each of 108 candidates, totalling 540 fits\n"
     ]
    },
    {
     "name": "stderr",
     "output_type": "stream",
     "text": [
      "[Parallel(n_jobs=1)]: Using backend SequentialBackend with 1 concurrent workers.\n",
      "[Parallel(n_jobs=1)]: Done 540 out of 540 | elapsed:  5.4min finished\n"
     ]
    },
    {
     "data": {
      "text/plain": [
       "{'criterion': 'entropy',\n",
       " 'max_depth': 8,\n",
       " 'max_features': 'auto',\n",
       " 'n_estimators': 100}"
      ]
     },
     "execution_count": 89,
     "metadata": {},
     "output_type": "execute_result"
    }
   ],
   "source": [
    "# Grid search cross validation\n",
    "params = { \n",
    "    'n_estimators': [10, 100, 500],\n",
    "    'max_features': ['auto', 'sqrt', 'log2'],\n",
    "    'max_depth' : [4,5,6,7,8,9],\n",
    "    'criterion' :['gini', 'entropy']\n",
    "}\n",
    "grid_RF = GridSearchCV(RandomForestClassifier(random_state = 42), params, cv=5, verbose=True)\n",
    "grid_RF.fit(X_train_2, y_train_2)\n",
    "grid_RF.best_params_"
   ]
  },
  {
   "cell_type": "code",
   "execution_count": 90,
   "id": "acc4285c",
   "metadata": {},
   "outputs": [
    {
     "name": "stdout",
     "output_type": "stream",
     "text": [
      "Accuracy of Random Forest Model on test set after removing some features: 0.508\n"
     ]
    }
   ],
   "source": [
    "# Random Forest best Model\n",
    "RF_2 = grid_RF.best_estimator_\n",
    "\n",
    "# Calculating the accuracy of Random Forest Model\n",
    "print('Accuracy of Random Forest Model on test set after removing some features: {:.3f}'.format(RF_2.score(X_test_2, y_test_2)))"
   ]
  },
  {
   "cell_type": "markdown",
   "id": "29deb36a",
   "metadata": {},
   "source": [
    "#### Inference\n",
    "1. The performance of this model degraded.\n",
    "2. Once again a parameter change can be noticed."
   ]
  },
  {
   "cell_type": "markdown",
   "id": "1b6fc125",
   "metadata": {},
   "source": [
    "#### SGD Model"
   ]
  },
  {
   "cell_type": "code",
   "execution_count": 91,
   "id": "8717a956",
   "metadata": {},
   "outputs": [
    {
     "name": "stdout",
     "output_type": "stream",
     "text": [
      "Fitting 5 folds for each of 48 candidates, totalling 240 fits\n"
     ]
    },
    {
     "name": "stderr",
     "output_type": "stream",
     "text": [
      "[Parallel(n_jobs=1)]: Using backend SequentialBackend with 1 concurrent workers.\n",
      "[Parallel(n_jobs=1)]: Done 240 out of 240 | elapsed:    7.0s finished\n"
     ]
    },
    {
     "data": {
      "text/plain": [
       "{'alpha': 0.1, 'loss': 'log', 'penalty': 'l2'}"
      ]
     },
     "execution_count": 91,
     "metadata": {},
     "output_type": "execute_result"
    }
   ],
   "source": [
    "# Grid search cross validation\n",
    "params = {\n",
    "    \"loss\" : [\"hinge\", \"log\", \"squared_hinge\", \"modified_huber\"],\n",
    "    \"alpha\" : [0.0001, 0.001, 0.01, 0.1],\n",
    "    \"penalty\" : [\"l2\", \"l1\", \"none\"],\n",
    "}\n",
    "grid_SGD = GridSearchCV(SGDClassifier(max_iter=1000, random_state = 42), params, cv=5, verbose=True)\n",
    "grid_SGD.fit(X_train_2, y_train_2)\n",
    "grid_SGD.best_params_"
   ]
  },
  {
   "cell_type": "code",
   "execution_count": 92,
   "id": "ad64dd8f",
   "metadata": {},
   "outputs": [
    {
     "name": "stdout",
     "output_type": "stream",
     "text": [
      "Accuracy of SGD Model on test set after removing some features: 0.530\n"
     ]
    }
   ],
   "source": [
    "# SGD best Model\n",
    "SGD_2 = grid_SGD.best_estimator_\n",
    "\n",
    "# Calculating the accuracy of SGD Model\n",
    "print('Accuracy of SGD Model on test set after removing some features: {:.3f}'.format(SGD_2.score(X_test_2, y_test_2)))"
   ]
  },
  {
   "cell_type": "markdown",
   "id": "7d075aa5",
   "metadata": {},
   "source": [
    "#### Inference\n",
    "1. The performance of this model improved.\n",
    "2. Even in this instance a parameter change can be noticed."
   ]
  },
  {
   "cell_type": "markdown",
   "id": "bbab32d4",
   "metadata": {},
   "source": [
    "#### SVM Model"
   ]
  },
  {
   "cell_type": "code",
   "execution_count": 93,
   "id": "3b96bae7",
   "metadata": {},
   "outputs": [
    {
     "name": "stdout",
     "output_type": "stream",
     "text": [
      "Fitting 5 folds for each of 50 candidates, totalling 250 fits\n"
     ]
    },
    {
     "name": "stderr",
     "output_type": "stream",
     "text": [
      "[Parallel(n_jobs=1)]: Using backend SequentialBackend with 1 concurrent workers.\n",
      "[Parallel(n_jobs=1)]: Done 250 out of 250 | elapsed:   51.6s finished\n"
     ]
    },
    {
     "data": {
      "text/plain": [
       "GridSearchCV(cv=5, estimator=SVC(random_state=42),\n",
       "             param_grid={'C': [0.1, 1, 10, 100, 1000],\n",
       "                         'gamma': [1, 0.1, 0.01, 0.001, 0.0001],\n",
       "                         'kernel': ['rbf', 'logistic']},\n",
       "             verbose=True)"
      ]
     },
     "execution_count": 93,
     "metadata": {},
     "output_type": "execute_result"
    }
   ],
   "source": [
    "# Grid search cross validation\n",
    "params = {'C': [0.1, 1, 10, 100, 1000], \n",
    "              'gamma': [1, 0.1, 0.01, 0.001, 0.0001],\n",
    "              'kernel': ['rbf','logistic']} \n",
    "grid_SVM = GridSearchCV(SVC(random_state = 42), params, verbose=True, cv=5)\n",
    "grid_SVM.fit(X_train_2, y_train_2)"
   ]
  },
  {
   "cell_type": "code",
   "execution_count": 94,
   "id": "4c5df0c4",
   "metadata": {},
   "outputs": [
    {
     "data": {
      "text/plain": [
       "{'C': 100, 'gamma': 0.01, 'kernel': 'rbf'}"
      ]
     },
     "execution_count": 94,
     "metadata": {},
     "output_type": "execute_result"
    }
   ],
   "source": [
    "grid_SVM.best_params_"
   ]
  },
  {
   "cell_type": "code",
   "execution_count": 95,
   "id": "37e10daa",
   "metadata": {},
   "outputs": [
    {
     "name": "stdout",
     "output_type": "stream",
     "text": [
      "Accuracy of SVM Model on test set after removing some features: 0.526\n"
     ]
    }
   ],
   "source": [
    "# SVM best Model\n",
    "SVM_2 = grid_SVM.best_estimator_\n",
    "\n",
    "# Calculating the accuracy of SVM Model\n",
    "print('Accuracy of SVM Model on test set after removing some features: {:.3f}'.format(SVM_2.score(X_test_2, y_test_2)))"
   ]
  },
  {
   "cell_type": "markdown",
   "id": "c7da1447",
   "metadata": {},
   "source": [
    "#### Inference\n",
    "1. The performance of this model improved significantly.\n",
    "2. Another parameter change was suggested to better adapt to the new dataset."
   ]
  },
  {
   "cell_type": "code",
   "execution_count": 96,
   "id": "231aeac3",
   "metadata": {},
   "outputs": [],
   "source": [
    "# Comparing accuracy of different models\n",
    "acc_2 = pd.Series([\"{:.3f}\".format(logmodel_2.score(X_test_2, y_test_2)), \n",
    "                \"{:.3f}\".format(DT_2.score(X_test_2, y_test_2)), \n",
    "                \"{:.3f}\".format(RF_2.score(X_test_2, y_test_2)), \n",
    "                \"{:.3f}\".format(SGD_2.score(X_test_2, y_test_2)), \n",
    "                \"{:.3f}\".format(SVM_2.score(X_test_2, y_test_2))])\n",
    "\n",
    "models_comparison_df[\"Accuracy Score after removing some feautres\"] = acc_2"
   ]
  },
  {
   "cell_type": "markdown",
   "id": "3d8ffe8d",
   "metadata": {},
   "source": [
    "### Step 9: Showing accuracy for each model built"
   ]
  },
  {
   "cell_type": "code",
   "execution_count": 97,
   "id": "367fce93",
   "metadata": {},
   "outputs": [
    {
     "data": {
      "text/html": [
       "<div>\n",
       "<style scoped>\n",
       "    .dataframe tbody tr th:only-of-type {\n",
       "        vertical-align: middle;\n",
       "    }\n",
       "\n",
       "    .dataframe tbody tr th {\n",
       "        vertical-align: top;\n",
       "    }\n",
       "\n",
       "    .dataframe thead th {\n",
       "        text-align: right;\n",
       "    }\n",
       "</style>\n",
       "<table border=\"1\" class=\"dataframe\">\n",
       "  <thead>\n",
       "    <tr style=\"text-align: right;\">\n",
       "      <th></th>\n",
       "      <th>Model</th>\n",
       "      <th>Accuracy Score</th>\n",
       "      <th>Accuracy Score after Tuning</th>\n",
       "      <th>Accuracy Score after removing some feautres</th>\n",
       "    </tr>\n",
       "  </thead>\n",
       "  <tbody>\n",
       "    <tr>\n",
       "      <th>0</th>\n",
       "      <td>Logistic Regression</td>\n",
       "      <td>0.516</td>\n",
       "      <td>0.506</td>\n",
       "      <td>0.526</td>\n",
       "    </tr>\n",
       "    <tr>\n",
       "      <th>1</th>\n",
       "      <td>Decision Tree</td>\n",
       "      <td>0.516</td>\n",
       "      <td>0.514</td>\n",
       "      <td>0.500</td>\n",
       "    </tr>\n",
       "    <tr>\n",
       "      <th>2</th>\n",
       "      <td>Random Forest</td>\n",
       "      <td>0.530</td>\n",
       "      <td>0.530</td>\n",
       "      <td>0.508</td>\n",
       "    </tr>\n",
       "    <tr>\n",
       "      <th>3</th>\n",
       "      <td>SGD</td>\n",
       "      <td>0.509</td>\n",
       "      <td>0.516</td>\n",
       "      <td>0.530</td>\n",
       "    </tr>\n",
       "    <tr>\n",
       "      <th>4</th>\n",
       "      <td>SVM</td>\n",
       "      <td>0.515</td>\n",
       "      <td>0.505</td>\n",
       "      <td>0.526</td>\n",
       "    </tr>\n",
       "  </tbody>\n",
       "</table>\n",
       "</div>"
      ],
      "text/plain": [
       "                 Model Accuracy Score Accuracy Score after Tuning  \\\n",
       "0  Logistic Regression          0.516                       0.506   \n",
       "1        Decision Tree          0.516                       0.514   \n",
       "2        Random Forest          0.530                       0.530   \n",
       "3                  SGD          0.509                       0.516   \n",
       "4                  SVM          0.515                       0.505   \n",
       "\n",
       "  Accuracy Score after removing some feautres  \n",
       "0                                       0.526  \n",
       "1                                       0.500  \n",
       "2                                       0.508  \n",
       "3                                       0.530  \n",
       "4                                       0.526  "
      ]
     },
     "execution_count": 97,
     "metadata": {},
     "output_type": "execute_result"
    }
   ],
   "source": [
    "models_comparison_df"
   ]
  },
  {
   "cell_type": "code",
   "execution_count": null,
   "id": "e0a40b77",
   "metadata": {},
   "outputs": [],
   "source": []
  }
 ],
 "metadata": {
  "kernelspec": {
   "display_name": "Python 3 (ipykernel)",
   "language": "python",
   "name": "python3"
  },
  "language_info": {
   "codemirror_mode": {
    "name": "ipython",
    "version": 3
   },
   "file_extension": ".py",
   "mimetype": "text/x-python",
   "name": "python",
   "nbconvert_exporter": "python",
   "pygments_lexer": "ipython3",
   "version": "3.9.15"
  }
 },
 "nbformat": 4,
 "nbformat_minor": 5
}
